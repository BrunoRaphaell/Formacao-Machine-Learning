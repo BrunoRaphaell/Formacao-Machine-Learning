{
 "cells": [
  {
   "cell_type": "markdown",
   "id": "865a10b6",
   "metadata": {},
   "source": [
    "# Como escolher o estimador correto?\n",
    "\n",
    "![](https://scikit-learn.org/stable/_static/ml_map.png)"
   ]
  },
  {
   "cell_type": "code",
   "execution_count": 1,
   "id": "cc2c6d70",
   "metadata": {},
   "outputs": [],
   "source": [
    "# Features (0 - não, 1 - sim)\n",
    "# Longo?\n",
    "# Perna curta?\n",
    "# Faz auau?\n",
    "\n",
    "porco1 = [0, 1, 0]\n",
    "porco2 = [0, 1, 1]\n",
    "porco3 = [1, 1, 0]\n",
    "\n",
    "cachorro1 = [0, 1, 1]\n",
    "cachorro2 = [1, 0, 1]\n",
    "cachorro3 = [1, 1, 1]\n",
    "\n",
    "# 1 -> porco, 0 -> cachorro\n",
    "treino_x = [porco1, porco2, porco3, cachorro1, cachorro2, cachorro3]\n",
    "treino_y = [1, 1, 1, 0, 0, 0] # labels / etiqueta\n"
   ]
  },
  {
   "cell_type": "code",
   "execution_count": 2,
   "id": "e5e24836",
   "metadata": {},
   "outputs": [
    {
     "data": {
      "text/plain": [
       "LinearSVC()"
      ]
     },
     "execution_count": 2,
     "metadata": {},
     "output_type": "execute_result"
    }
   ],
   "source": [
    "from sklearn.svm import LinearSVC\n",
    "\n",
    "model = LinearSVC()\n",
    "model.fit(treino_x, treino_y)"
   ]
  },
  {
   "cell_type": "code",
   "execution_count": 3,
   "id": "41e08844",
   "metadata": {},
   "outputs": [
    {
     "data": {
      "text/plain": [
       "array([0])"
      ]
     },
     "execution_count": 3,
     "metadata": {},
     "output_type": "execute_result"
    }
   ],
   "source": [
    "animal_misterioso = [1, 1, 1]\n",
    "model.predict([animal_misterioso])"
   ]
  },
  {
   "cell_type": "code",
   "execution_count": 4,
   "id": "d629469c",
   "metadata": {},
   "outputs": [],
   "source": [
    "mistério1 = [1, 1, 1]\n",
    "mistério2 = [1, 1, 0]\n",
    "mistério3 = [0, 1, 1]"
   ]
  },
  {
   "cell_type": "code",
   "execution_count": 5,
   "id": "949cbf81",
   "metadata": {
    "scrolled": true
   },
   "outputs": [],
   "source": [
    "teste_x = [mistério1, mistério2, mistério3]\n",
    "teste_y = [0, 1, 1]\n",
    "previsoes = model.predict(teste_x)"
   ]
  },
  {
   "cell_type": "code",
   "execution_count": 6,
   "id": "84eb4e9e",
   "metadata": {},
   "outputs": [],
   "source": [
    "corretos = (previsoes == teste_y).sum()"
   ]
  },
  {
   "cell_type": "code",
   "execution_count": 7,
   "id": "cabd1f2c",
   "metadata": {},
   "outputs": [
    {
     "name": "stdout",
     "output_type": "stream",
     "text": [
      "Taxa de acerto = 66.66666666666666\n"
     ]
    }
   ],
   "source": [
    "total = len(teste_x)\n",
    "taxa_de_acerto = corretos / total\n",
    "print(f\"Taxa de acerto = {taxa_de_acerto * 100}\")"
   ]
  },
  {
   "cell_type": "code",
   "execution_count": 8,
   "id": "7de1dcc6",
   "metadata": {},
   "outputs": [
    {
     "name": "stdout",
     "output_type": "stream",
     "text": [
      "66.66666666666666\n"
     ]
    }
   ],
   "source": [
    "from sklearn.metrics import accuracy_score\n",
    "\n",
    "taxa_de_acerto = accuracy_score(teste_y, previsoes)\n",
    "print(taxa_de_acerto*100)"
   ]
  }
 ],
 "metadata": {
  "interpreter": {
   "hash": "bf557167d0e1f62200bd038d8f03414d51ce69206a74f3521268fd330d8e9f72"
  },
  "kernelspec": {
   "display_name": "Python 3.8.2 64-bit ('ambiente': conda)",
   "name": "python3"
  },
  "language_info": {
   "codemirror_mode": {
    "name": "ipython",
    "version": 3
   },
   "file_extension": ".py",
   "mimetype": "text/x-python",
   "name": "python",
   "nbconvert_exporter": "python",
   "pygments_lexer": "ipython3",
   "version": "3.8.12"
  }
 },
 "nbformat": 4,
 "nbformat_minor": 5
}
