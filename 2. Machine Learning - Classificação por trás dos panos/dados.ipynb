{
 "cells": [
  {
   "cell_type": "code",
   "execution_count": 3,
   "id": "52131966",
   "metadata": {},
   "outputs": [],
   "source": [
    "import csv\n",
    "\n",
    "def carregar_acessos():\n",
    "    X = []\n",
    "    Y = []\n",
    "\n",
    "    arquivo = open('acesso.csv', 'r')\n",
    "    leitor = csv.reader(arquivo)\n",
    "\n",
    "    next(leitor)\n",
    "\n",
    "    for home,como_funciona,contato, comprou in leitor:\n",
    "\n",
    "        dado = [int(home),int(como_funciona)\n",
    "            ,int(contato)]\n",
    "        X.append(dado)\n",
    "        Y.append(int(comprou))\n",
    "\n",
    "    return X, Y"
   ]
  },
  {
   "cell_type": "code",
   "execution_count": 6,
   "id": "7e786a8b",
   "metadata": {},
   "outputs": [],
   "source": [
    "X, Y = carregar_acessos()\n"
   ]
  },
  {
   "cell_type": "code",
   "execution_count": 7,
   "id": "dcd3b8ff",
   "metadata": {},
   "outputs": [
    {
     "data": {
      "text/plain": [
       "MultinomialNB()"
      ]
     },
     "execution_count": 7,
     "metadata": {},
     "output_type": "execute_result"
    }
   ],
   "source": [
    "from sklearn.naive_bayes import MultinomialNB\n",
    "\n",
    "modelo =  MultinomialNB()\n",
    "modelo.fit(X, Y)"
   ]
  },
  {
   "cell_type": "code",
   "execution_count": 11,
   "id": "9d22105d",
   "metadata": {},
   "outputs": [
    {
     "data": {
      "text/plain": [
       "array([1, 0, 0, 0, 0])"
      ]
     },
     "execution_count": 11,
     "metadata": {},
     "output_type": "execute_result"
    }
   ],
   "source": [
    "modelo.predict([[1, 0, 1], [0, 1, 0], [1, 0, 0], [1, 1, 0], [1, 1, 1]])"
   ]
  },
  {
   "cell_type": "code",
   "execution_count": 13,
   "id": "ddca5ee0",
   "metadata": {},
   "outputs": [],
   "source": [
    "resultado = modelo.predict(X)"
   ]
  },
  {
   "cell_type": "code",
   "execution_count": 22,
   "id": "ef0a8d30",
   "metadata": {},
   "outputs": [
    {
     "data": {
      "text/plain": [
       "93.93939393939394"
      ]
     },
     "execution_count": 22,
     "metadata": {},
     "output_type": "execute_result"
    }
   ],
   "source": [
    "taxa_de_acerto = (resultado == Y).sum()/len(X)*100.0\n",
    "taxa_de_acerto"
   ]
  },
  {
   "cell_type": "code",
   "execution_count": 23,
   "id": "aad759c7",
   "metadata": {},
   "outputs": [],
   "source": [
    "# Separando em 10% para teste e 90% para treino: 88.89% de acertos. \n",
    "\n",
    "treino_dados = X[:90]\n",
    "treino_marcacoes = Y[:90]\n",
    "teste_dados = X[-9:]\n",
    "teste_marcacoes = Y[-9:]"
   ]
  },
  {
   "cell_type": "code",
   "execution_count": 24,
   "id": "0afe7e7c",
   "metadata": {},
   "outputs": [
    {
     "data": {
      "text/plain": [
       "88.89"
      ]
     },
     "execution_count": 24,
     "metadata": {},
     "output_type": "execute_result"
    }
   ],
   "source": [
    "from sklearn.naive_bayes import MultinomialNB\n",
    "\n",
    "modelo =  MultinomialNB()\n",
    "modelo.fit(treino_dados, treino_marcacoes)\n",
    "resultado = modelo.predict(teste_dados)\n",
    "taxa_de_acerto = round((resultado == teste_marcacoes).sum()/len(teste_dados)*100.0, 2)\n",
    "taxa_de_acerto"
   ]
  }
 ],
 "metadata": {
  "kernelspec": {
   "display_name": "Python 3",
   "language": "python",
   "name": "python3"
  },
  "language_info": {
   "codemirror_mode": {
    "name": "ipython",
    "version": 3
   },
   "file_extension": ".py",
   "mimetype": "text/x-python",
   "name": "python",
   "nbconvert_exporter": "python",
   "pygments_lexer": "ipython3",
   "version": "3.8.8"
  }
 },
 "nbformat": 4,
 "nbformat_minor": 5
}
