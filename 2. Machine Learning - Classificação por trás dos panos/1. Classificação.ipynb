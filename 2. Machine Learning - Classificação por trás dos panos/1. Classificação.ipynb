{
 "cells": [
  {
   "cell_type": "code",
   "execution_count": 17,
   "id": "05be1acd",
   "metadata": {},
   "outputs": [
    {
     "data": {
      "text/plain": [
       "MultinomialNB()"
      ]
     },
     "execution_count": 17,
     "metadata": {},
     "output_type": "execute_result"
    }
   ],
   "source": [
    "from sklearn.naive_bayes import MultinomialNB\n",
    "# [é gordinho?, tem perninha curta?, faz auau?]\n",
    "porco1 = [1, 1, 0]\n",
    "porco2 = [1, 1, 0]\n",
    "porco3 = [1, 1, 0]\n",
    "cachorro4 = [1, 1, 1]\n",
    "cachorro5 = [0, 1, 1]\n",
    "cachorro6 = [0, 1, 1]\n",
    "\n",
    "dados = [porco1, porco2, porco3, cachorro4, cachorro5, cachorro6]\n",
    "\n",
    "marcacoes = [1, 1, 1, -1, -1, -1]  # 1 -> Porco, -1 -> Cachorro\n",
    "\n",
    "modelo = MultinomialNB()\n",
    "modelo.fit(dados, marcacoes)"
   ]
  },
  {
   "cell_type": "code",
   "execution_count": 18,
   "id": "d9e700e4",
   "metadata": {},
   "outputs": [
    {
     "name": "stdout",
     "output_type": "stream",
     "text": [
      "[-1  1  1]\n"
     ]
    }
   ],
   "source": [
    "misterioso1 = [1, 1, 1]\n",
    "misterioso2 = [1, 0, 0]\n",
    "misterioso3 = [0, 0, 1]\n",
    "teste = [misterioso1, misterioso2, misterioso2]\n",
    "marcacoes_teste = [-1, 1, -1]\n",
    "\n",
    "resultado = modelo.predict(teste)\n",
    "print(resultado)"
   ]
  },
  {
   "cell_type": "code",
   "execution_count": 19,
   "id": "44b97b56",
   "metadata": {},
   "outputs": [],
   "source": [
    "diferenca = resultado - marcacoes_teste"
   ]
  },
  {
   "cell_type": "code",
   "execution_count": 20,
   "id": "b0e3f33b",
   "metadata": {},
   "outputs": [
    {
     "data": {
      "text/plain": [
       "[0, 0]"
      ]
     },
     "execution_count": 20,
     "metadata": {},
     "output_type": "execute_result"
    }
   ],
   "source": [
    "acertos = [d for d in diferenca if d==0]\n",
    "acertos"
   ]
  },
  {
   "cell_type": "code",
   "execution_count": 22,
   "id": "50292840",
   "metadata": {},
   "outputs": [
    {
     "data": {
      "text/plain": [
       "2"
      ]
     },
     "execution_count": 22,
     "metadata": {},
     "output_type": "execute_result"
    }
   ],
   "source": [
    "total_de_acertos = len(acertos)\n",
    "total_de_acertos"
   ]
  },
  {
   "cell_type": "code",
   "execution_count": 27,
   "id": "91199464",
   "metadata": {},
   "outputs": [
    {
     "data": {
      "text/plain": [
       "66.67"
      ]
     },
     "execution_count": 27,
     "metadata": {},
     "output_type": "execute_result"
    }
   ],
   "source": [
    "acuracia = round(total_de_acertos/len(teste) * 100, 2)\n",
    "acuracia"
   ]
  }
 ],
 "metadata": {
  "kernelspec": {
   "display_name": "Python 3",
   "language": "python",
   "name": "python3"
  },
  "language_info": {
   "codemirror_mode": {
    "name": "ipython",
    "version": 3
   },
   "file_extension": ".py",
   "mimetype": "text/x-python",
   "name": "python",
   "nbconvert_exporter": "python",
   "pygments_lexer": "ipython3",
   "version": "3.8.8"
  }
 },
 "nbformat": 4,
 "nbformat_minor": 5
}
