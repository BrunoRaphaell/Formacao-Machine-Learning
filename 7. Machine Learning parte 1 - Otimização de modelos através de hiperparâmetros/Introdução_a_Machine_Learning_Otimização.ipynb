{
  "cells": [
    {
      "cell_type": "code",
      "execution_count": 1,
      "metadata": {},
      "outputs": [
        {
          "name": "stdout",
          "output_type": "stream",
          "text": [
            "Versão do numpy: 1.20.3\n",
            "Versão do seaborn: 0.11.2\n"
          ]
        }
      ],
      "source": [
        "import seaborn as sns\n",
        "import numpy as np\n",
        "\n",
        "print(f\"Versão do numpy: {np.__version__}\")\n",
        "print(f\"Versão do seaborn: {sns.__version__}\")"
      ]
    },
    {
      "cell_type": "code",
      "execution_count": 2,
      "metadata": {
        "colab": {},
        "colab_type": "code",
        "id": "y7ik04NlDZMA"
      },
      "outputs": [
        {
          "data": {
            "text/html": [
              "<div>\n",
              "<style scoped>\n",
              "    .dataframe tbody tr th:only-of-type {\n",
              "        vertical-align: middle;\n",
              "    }\n",
              "\n",
              "    .dataframe tbody tr th {\n",
              "        vertical-align: top;\n",
              "    }\n",
              "\n",
              "    .dataframe thead th {\n",
              "        text-align: right;\n",
              "    }\n",
              "</style>\n",
              "<table border=\"1\" class=\"dataframe\">\n",
              "  <thead>\n",
              "    <tr style=\"text-align: right;\">\n",
              "      <th></th>\n",
              "      <th>preco</th>\n",
              "      <th>vendido</th>\n",
              "      <th>idade_do_modelo</th>\n",
              "      <th>km_por_ano</th>\n",
              "    </tr>\n",
              "  </thead>\n",
              "  <tbody>\n",
              "    <tr>\n",
              "      <th>0</th>\n",
              "      <td>30941.02</td>\n",
              "      <td>1</td>\n",
              "      <td>18</td>\n",
              "      <td>35085.22134</td>\n",
              "    </tr>\n",
              "    <tr>\n",
              "      <th>1</th>\n",
              "      <td>40557.96</td>\n",
              "      <td>1</td>\n",
              "      <td>20</td>\n",
              "      <td>12622.05362</td>\n",
              "    </tr>\n",
              "    <tr>\n",
              "      <th>2</th>\n",
              "      <td>89627.50</td>\n",
              "      <td>0</td>\n",
              "      <td>12</td>\n",
              "      <td>11440.79806</td>\n",
              "    </tr>\n",
              "    <tr>\n",
              "      <th>3</th>\n",
              "      <td>95276.14</td>\n",
              "      <td>0</td>\n",
              "      <td>3</td>\n",
              "      <td>43167.32682</td>\n",
              "    </tr>\n",
              "    <tr>\n",
              "      <th>4</th>\n",
              "      <td>117384.68</td>\n",
              "      <td>1</td>\n",
              "      <td>4</td>\n",
              "      <td>12770.11290</td>\n",
              "    </tr>\n",
              "  </tbody>\n",
              "</table>\n",
              "</div>"
            ],
            "text/plain": [
              "       preco  vendido  idade_do_modelo   km_por_ano\n",
              "0   30941.02        1               18  35085.22134\n",
              "1   40557.96        1               20  12622.05362\n",
              "2   89627.50        0               12  11440.79806\n",
              "3   95276.14        0                3  43167.32682\n",
              "4  117384.68        1                4  12770.11290"
            ]
          },
          "execution_count": 2,
          "metadata": {},
          "output_type": "execute_result"
        }
      ],
      "source": [
        "import pandas as pd\n",
        "\n",
        "uri = \"https://gist.githubusercontent.com/guilhermesilveira/e99a526b2e7ccc6c3b70f53db43a87d2/raw/1605fc74aa778066bf2e6695e24d53cf65f2f447/machine-learning-carros-simulacao.csv\"\n",
        "dados = pd.read_csv(uri).drop(columns=[\"Unnamed: 0\"], axis=1)\n",
        "dados.head()"
      ]
    },
    {
      "cell_type": "code",
      "execution_count": 3,
      "metadata": {},
      "outputs": [
        {
          "data": {
            "text/plain": [
              "preco       vendido  idade_do_modelo  km_por_ano \n",
              "-840.36     1        20               21367.20718    1\n",
              " 78335.47   0        5                15365.97832    1\n",
              " 78319.55   1        12               22178.31454    1\n",
              " 78322.13   0        12               9398.54560     1\n",
              " 78323.94   0        14               17126.59628    1\n",
              "                                                    ..\n",
              " 51754.81   0        18               40116.01818    1\n",
              " 51758.45   1        16               12768.50356    1\n",
              " 51777.60   1        14               39256.63062    1\n",
              " 51785.14   1        13               15251.71518    1\n",
              " 118929.72  0        5                15795.67210    1\n",
              "Length: 10000, dtype: int64"
            ]
          },
          "execution_count": 3,
          "metadata": {},
          "output_type": "execute_result"
        }
      ],
      "source": [
        "dados.value_counts()"
      ]
    },
    {
      "cell_type": "code",
      "execution_count": 4,
      "metadata": {},
      "outputs": [],
      "source": [
        "# import pandas_profiling\n",
        "\n",
        "# pandas_profiling.ProfileReport(dados)\n"
      ]
    },
    {
      "cell_type": "code",
      "execution_count": 5,
      "metadata": {
        "colab": {
          "base_uri": "https://localhost:8080/",
          "height": 204
        },
        "colab_type": "code",
        "id": "b52E4e1hjegN",
        "outputId": "97420810-da24-4bd7-8b8d-242c06aa220a"
      },
      "outputs": [
        {
          "data": {
            "text/html": [
              "<div>\n",
              "<style scoped>\n",
              "    .dataframe tbody tr th:only-of-type {\n",
              "        vertical-align: middle;\n",
              "    }\n",
              "\n",
              "    .dataframe tbody tr th {\n",
              "        vertical-align: top;\n",
              "    }\n",
              "\n",
              "    .dataframe thead th {\n",
              "        text-align: right;\n",
              "    }\n",
              "</style>\n",
              "<table border=\"1\" class=\"dataframe\">\n",
              "  <thead>\n",
              "    <tr style=\"text-align: right;\">\n",
              "      <th></th>\n",
              "      <th>preco</th>\n",
              "      <th>vendido</th>\n",
              "      <th>idade_do_modelo</th>\n",
              "      <th>km_por_ano</th>\n",
              "    </tr>\n",
              "  </thead>\n",
              "  <tbody>\n",
              "    <tr>\n",
              "      <th>4999</th>\n",
              "      <td>74023.29</td>\n",
              "      <td>0</td>\n",
              "      <td>12</td>\n",
              "      <td>24812.80412</td>\n",
              "    </tr>\n",
              "    <tr>\n",
              "      <th>5322</th>\n",
              "      <td>84843.49</td>\n",
              "      <td>0</td>\n",
              "      <td>13</td>\n",
              "      <td>23095.63834</td>\n",
              "    </tr>\n",
              "    <tr>\n",
              "      <th>5319</th>\n",
              "      <td>83100.27</td>\n",
              "      <td>0</td>\n",
              "      <td>19</td>\n",
              "      <td>36240.72746</td>\n",
              "    </tr>\n",
              "    <tr>\n",
              "      <th>5316</th>\n",
              "      <td>87932.13</td>\n",
              "      <td>0</td>\n",
              "      <td>16</td>\n",
              "      <td>32249.56426</td>\n",
              "    </tr>\n",
              "    <tr>\n",
              "      <th>5315</th>\n",
              "      <td>77937.01</td>\n",
              "      <td>0</td>\n",
              "      <td>15</td>\n",
              "      <td>28414.50704</td>\n",
              "    </tr>\n",
              "  </tbody>\n",
              "</table>\n",
              "</div>"
            ],
            "text/plain": [
              "         preco  vendido  idade_do_modelo   km_por_ano\n",
              "4999  74023.29        0               12  24812.80412\n",
              "5322  84843.49        0               13  23095.63834\n",
              "5319  83100.27        0               19  36240.72746\n",
              "5316  87932.13        0               16  32249.56426\n",
              "5315  77937.01        0               15  28414.50704"
            ]
          },
          "execution_count": 5,
          "metadata": {},
          "output_type": "execute_result"
        }
      ],
      "source": [
        "# situação horrível de \"azar\" onde as classes estão ordenadas por padrão\n",
        "\n",
        "dados_azar = dados.sort_values(\"vendido\", ascending=True)\n",
        "x_azar = dados_azar[[\"preco\", \"idade_do_modelo\",\"km_por_ano\"]]\n",
        "y_azar = dados_azar[\"vendido\"]\n",
        "dados_azar.head()"
      ]
    },
    {
      "cell_type": "code",
      "execution_count": 6,
      "metadata": {
        "colab": {},
        "colab_type": "code",
        "id": "ZNT26vFEeYmz"
      },
      "outputs": [
        {
          "name": "stdout",
          "output_type": "stream",
          "text": [
            "Accuracy com dummy stratified, 10 = [49.79, 53.45]\n"
          ]
        }
      ],
      "source": [
        "from sklearn.model_selection import cross_validate\n",
        "from sklearn.dummy import DummyClassifier\n",
        "import numpy as np\n",
        "\n",
        "SEED = 301\n",
        "np.random.seed(SEED)\n",
        "\n",
        "modelo = DummyClassifier(strategy=\"stratified\")\n",
        "results = cross_validate(modelo, x_azar, y_azar, cv = 10, return_train_score=False)\n",
        "media = results['test_score'].mean()\n",
        "desvio_padrao = results['test_score'].std()\n",
        "print(\"Accuracy com dummy stratified, 10 = [%.2f, %.2f]\" % ((media - 2 * desvio_padrao)*100, (media + 2 * desvio_padrao) * 100))"
      ]
    },
    {
      "cell_type": "code",
      "execution_count": 7,
      "metadata": {
        "colab": {},
        "colab_type": "code",
        "id": "73mCcFA_eG_K"
      },
      "outputs": [
        {
          "name": "stdout",
          "output_type": "stream",
          "text": [
            "Accuracy com cross validation, 10 = [73.83, 77.73]\n"
          ]
        }
      ],
      "source": [
        "from sklearn.model_selection import cross_validate\n",
        "from sklearn.tree import DecisionTreeClassifier\n",
        "\n",
        "SEED = 301\n",
        "np.random.seed(SEED)\n",
        "\n",
        "modelo = DecisionTreeClassifier(max_depth=2)\n",
        "results = cross_validate(modelo, x_azar, y_azar, cv = 10, return_train_score=False)\n",
        "media = results['test_score'].mean()\n",
        "desvio_padrao = results['test_score'].std()\n",
        "print(\"Accuracy com cross validation, 10 = [%.2f, %.2f]\" % ((media - 2 * desvio_padrao)*100, (media + 2 * desvio_padrao) * 100))"
      ]
    },
    {
      "cell_type": "code",
      "execution_count": 8,
      "metadata": {
        "colab": {},
        "colab_type": "code",
        "id": "5C8Y6J-PGpYf"
      },
      "outputs": [
        {
          "data": {
            "text/html": [
              "<div>\n",
              "<style scoped>\n",
              "    .dataframe tbody tr th:only-of-type {\n",
              "        vertical-align: middle;\n",
              "    }\n",
              "\n",
              "    .dataframe tbody tr th {\n",
              "        vertical-align: top;\n",
              "    }\n",
              "\n",
              "    .dataframe thead th {\n",
              "        text-align: right;\n",
              "    }\n",
              "</style>\n",
              "<table border=\"1\" class=\"dataframe\">\n",
              "  <thead>\n",
              "    <tr style=\"text-align: right;\">\n",
              "      <th></th>\n",
              "      <th>preco</th>\n",
              "      <th>vendido</th>\n",
              "      <th>idade_do_modelo</th>\n",
              "      <th>km_por_ano</th>\n",
              "      <th>modelo</th>\n",
              "    </tr>\n",
              "  </thead>\n",
              "  <tbody>\n",
              "    <tr>\n",
              "      <th>0</th>\n",
              "      <td>30941.02</td>\n",
              "      <td>1</td>\n",
              "      <td>18</td>\n",
              "      <td>35085.22134</td>\n",
              "      <td>18</td>\n",
              "    </tr>\n",
              "    <tr>\n",
              "      <th>1</th>\n",
              "      <td>40557.96</td>\n",
              "      <td>1</td>\n",
              "      <td>20</td>\n",
              "      <td>12622.05362</td>\n",
              "      <td>24</td>\n",
              "    </tr>\n",
              "    <tr>\n",
              "      <th>2</th>\n",
              "      <td>89627.50</td>\n",
              "      <td>0</td>\n",
              "      <td>12</td>\n",
              "      <td>11440.79806</td>\n",
              "      <td>14</td>\n",
              "    </tr>\n",
              "    <tr>\n",
              "      <th>3</th>\n",
              "      <td>95276.14</td>\n",
              "      <td>0</td>\n",
              "      <td>3</td>\n",
              "      <td>43167.32682</td>\n",
              "      <td>6</td>\n",
              "    </tr>\n",
              "    <tr>\n",
              "      <th>4</th>\n",
              "      <td>117384.68</td>\n",
              "      <td>1</td>\n",
              "      <td>4</td>\n",
              "      <td>12770.11290</td>\n",
              "      <td>5</td>\n",
              "    </tr>\n",
              "  </tbody>\n",
              "</table>\n",
              "</div>"
            ],
            "text/plain": [
              "       preco  vendido  idade_do_modelo   km_por_ano  modelo\n",
              "0   30941.02        1               18  35085.22134      18\n",
              "1   40557.96        1               20  12622.05362      24\n",
              "2   89627.50        0               12  11440.79806      14\n",
              "3   95276.14        0                3  43167.32682       6\n",
              "4  117384.68        1                4  12770.11290       5"
            ]
          },
          "execution_count": 8,
          "metadata": {},
          "output_type": "execute_result"
        }
      ],
      "source": [
        "# gerando dados elatorios de modelo de carro para simulacao de agrupamento ao usar nosso estimador\n",
        "\n",
        "np.random.seed(SEED)\n",
        "dados['modelo'] = dados.idade_do_modelo + np.random.randint(-2, 3, size=10000)\n",
        "dados.modelo = dados.modelo + abs(dados.modelo.min()) + 1\n",
        "dados.head()"
      ]
    },
    {
      "cell_type": "code",
      "execution_count": 9,
      "metadata": {
        "colab": {},
        "colab_type": "code",
        "id": "3hmjt7qPHOZY"
      },
      "outputs": [],
      "source": [
        "def imprime_resultados(results):\n",
        "  media = results['test_score'].mean() * 100\n",
        "  desvio = results['test_score'].std() * 100\n",
        "  print(\"Accuracy médio %.2f\" % media)\n",
        "  print(\"Intervalo [%.2f, %.2f]\" % (media - 2 * desvio, media + 2 * desvio))"
      ]
    },
    {
      "cell_type": "code",
      "execution_count": 10,
      "metadata": {
        "colab": {},
        "colab_type": "code",
        "id": "IKD8uaWkNcUL"
      },
      "outputs": [
        {
          "name": "stdout",
          "output_type": "stream",
          "text": [
            "Accuracy médio 75.78\n",
            "Intervalo [73.67, 77.90]\n"
          ]
        }
      ],
      "source": [
        "# GroupKFold para analisar como o modelo se comporta com novos grupos\n",
        "\n",
        "from sklearn.model_selection import GroupKFold\n",
        "\n",
        "SEED = 301\n",
        "np.random.seed(SEED)\n",
        "\n",
        "cv = GroupKFold(n_splits = 10)\n",
        "modelo = DecisionTreeClassifier(max_depth=2)\n",
        "results = cross_validate(modelo, x_azar, y_azar, cv = cv, groups = dados.modelo, return_train_score=False)\n",
        "imprime_resultados(results)"
      ]
    },
    {
      "cell_type": "code",
      "execution_count": 12,
      "metadata": {},
      "outputs": [
        {
          "name": "stdout",
          "output_type": "stream",
          "text": [
            "Accuracy médio 75.78\n",
            "Intervalo [73.67, 77.90]\n"
          ]
        }
      ],
      "source": [
        "# GroupKFold para analisar como o modelo se comporta com novos grupos\n",
        "\n",
        "from sklearn.model_selection import GroupKFold\n",
        "\n",
        "SEED = 301\n",
        "np.random.seed(SEED)\n",
        "\n",
        "cv = GroupKFold(n_splits = 10)\n",
        "modelo = DecisionTreeClassifier(max_depth=2)\n",
        "results = cross_validate(modelo, x_azar, y_azar, cv = cv, groups = dados.modelo, return_train_score=False)\n",
        "imprime_resultados(results)"
      ]
    },
    {
      "cell_type": "code",
      "execution_count": 12,
      "metadata": {},
      "outputs": [
        {
          "ename": "AttributeError",
          "evalue": "'SVC' object has no attribute 'tree_'",
          "output_type": "error",
          "traceback": [
            "\u001b[0;31m---------------------------------------------------------------------------\u001b[0m",
            "\u001b[0;31mAttributeError\u001b[0m                            Traceback (most recent call last)",
            "\u001b[0;32m/tmp/ipykernel_80504/1096012200.py\u001b[0m in \u001b[0;36m<module>\u001b[0;34m\u001b[0m\n\u001b[1;32m      5\u001b[0m \u001b[0;34m\u001b[0m\u001b[0m\n\u001b[1;32m      6\u001b[0m \u001b[0mfeatures\u001b[0m \u001b[0;34m=\u001b[0m \u001b[0mx_azar\u001b[0m\u001b[0;34m.\u001b[0m\u001b[0mcolumns\u001b[0m\u001b[0;34m\u001b[0m\u001b[0;34m\u001b[0m\u001b[0m\n\u001b[0;32m----> 7\u001b[0;31m \u001b[0mdot_data\u001b[0m \u001b[0;34m=\u001b[0m \u001b[0mexport_graphviz\u001b[0m\u001b[0;34m(\u001b[0m\u001b[0mmodelo\u001b[0m\u001b[0;34m,\u001b[0m \u001b[0mout_file\u001b[0m\u001b[0;34m=\u001b[0m\u001b[0;32mNone\u001b[0m\u001b[0;34m,\u001b[0m \u001b[0mfilled\u001b[0m\u001b[0;34m=\u001b[0m\u001b[0;32mTrue\u001b[0m\u001b[0;34m,\u001b[0m \u001b[0mrounded\u001b[0m\u001b[0;34m=\u001b[0m\u001b[0;32mTrue\u001b[0m\u001b[0;34m,\u001b[0m \u001b[0mclass_names\u001b[0m\u001b[0;34m=\u001b[0m\u001b[0;34m[\u001b[0m\u001b[0;34m'não'\u001b[0m\u001b[0;34m,\u001b[0m \u001b[0;34m'sim'\u001b[0m\u001b[0;34m]\u001b[0m\u001b[0;34m,\u001b[0m \u001b[0mfeature_names\u001b[0m\u001b[0;34m=\u001b[0m\u001b[0mfeatures\u001b[0m\u001b[0;34m)\u001b[0m\u001b[0;34m\u001b[0m\u001b[0;34m\u001b[0m\u001b[0m\n\u001b[0m\u001b[1;32m      8\u001b[0m \u001b[0;34m\u001b[0m\u001b[0m\n\u001b[1;32m      9\u001b[0m \u001b[0mgraph\u001b[0m \u001b[0;34m=\u001b[0m \u001b[0mgraphviz\u001b[0m\u001b[0;34m.\u001b[0m\u001b[0mSource\u001b[0m\u001b[0;34m(\u001b[0m\u001b[0mdot_data\u001b[0m\u001b[0;34m)\u001b[0m\u001b[0;34m\u001b[0m\u001b[0;34m\u001b[0m\u001b[0m\n",
            "\u001b[0;32m~/anaconda3/envs/ambiente_linux/lib/python3.8/site-packages/sklearn/tree/_export.py\u001b[0m in \u001b[0;36mexport_graphviz\u001b[0;34m(decision_tree, out_file, max_depth, feature_names, class_names, label, filled, leaves_parallel, impurity, node_ids, proportion, rotate, rounded, special_characters, precision, fontname)\u001b[0m\n\u001b[1;32m    888\u001b[0m             \u001b[0mfontname\u001b[0m\u001b[0;34m=\u001b[0m\u001b[0mfontname\u001b[0m\u001b[0;34m,\u001b[0m\u001b[0;34m\u001b[0m\u001b[0;34m\u001b[0m\u001b[0m\n\u001b[1;32m    889\u001b[0m         )\n\u001b[0;32m--> 890\u001b[0;31m         \u001b[0mexporter\u001b[0m\u001b[0;34m.\u001b[0m\u001b[0mexport\u001b[0m\u001b[0;34m(\u001b[0m\u001b[0mdecision_tree\u001b[0m\u001b[0;34m)\u001b[0m\u001b[0;34m\u001b[0m\u001b[0;34m\u001b[0m\u001b[0m\n\u001b[0m\u001b[1;32m    891\u001b[0m \u001b[0;34m\u001b[0m\u001b[0m\n\u001b[1;32m    892\u001b[0m         \u001b[0;32mif\u001b[0m \u001b[0mreturn_string\u001b[0m\u001b[0;34m:\u001b[0m\u001b[0;34m\u001b[0m\u001b[0;34m\u001b[0m\u001b[0m\n",
            "\u001b[0;32m~/anaconda3/envs/ambiente_linux/lib/python3.8/site-packages/sklearn/tree/_export.py\u001b[0m in \u001b[0;36mexport\u001b[0;34m(self, decision_tree)\u001b[0m\n\u001b[1;32m    460\u001b[0m             \u001b[0mself\u001b[0m\u001b[0;34m.\u001b[0m\u001b[0mrecurse\u001b[0m\u001b[0;34m(\u001b[0m\u001b[0mdecision_tree\u001b[0m\u001b[0;34m,\u001b[0m \u001b[0;36m0\u001b[0m\u001b[0;34m,\u001b[0m \u001b[0mcriterion\u001b[0m\u001b[0;34m=\u001b[0m\u001b[0;34m\"impurity\"\u001b[0m\u001b[0;34m)\u001b[0m\u001b[0;34m\u001b[0m\u001b[0;34m\u001b[0m\u001b[0m\n\u001b[1;32m    461\u001b[0m         \u001b[0;32melse\u001b[0m\u001b[0;34m:\u001b[0m\u001b[0;34m\u001b[0m\u001b[0;34m\u001b[0m\u001b[0m\n\u001b[0;32m--> 462\u001b[0;31m             \u001b[0mself\u001b[0m\u001b[0;34m.\u001b[0m\u001b[0mrecurse\u001b[0m\u001b[0;34m(\u001b[0m\u001b[0mdecision_tree\u001b[0m\u001b[0;34m.\u001b[0m\u001b[0mtree_\u001b[0m\u001b[0;34m,\u001b[0m \u001b[0;36m0\u001b[0m\u001b[0;34m,\u001b[0m \u001b[0mcriterion\u001b[0m\u001b[0;34m=\u001b[0m\u001b[0mdecision_tree\u001b[0m\u001b[0;34m.\u001b[0m\u001b[0mcriterion\u001b[0m\u001b[0;34m)\u001b[0m\u001b[0;34m\u001b[0m\u001b[0;34m\u001b[0m\u001b[0m\n\u001b[0m\u001b[1;32m    463\u001b[0m \u001b[0;34m\u001b[0m\u001b[0m\n\u001b[1;32m    464\u001b[0m         \u001b[0mself\u001b[0m\u001b[0;34m.\u001b[0m\u001b[0mtail\u001b[0m\u001b[0;34m(\u001b[0m\u001b[0;34m)\u001b[0m\u001b[0;34m\u001b[0m\u001b[0;34m\u001b[0m\u001b[0m\n",
            "\u001b[0;31mAttributeError\u001b[0m: 'SVC' object has no attribute 'tree_'"
          ]
        }
      ],
      "source": [
        "import graphviz\n",
        "from sklearn.tree import export_graphviz\n",
        "\n",
        "modelo.fit(x_azar, y_azar)\n",
        "\n",
        "features = x_azar.columns\n",
        "dot_data = export_graphviz(modelo, out_file=None, filled=True, rounded=True, class_names=['não', 'sim'], feature_names=features)\n",
        "\n",
        "graph = graphviz.Source(dot_data)\n",
        "graph"
      ]
    },
    {
      "cell_type": "code",
      "execution_count": 14,
      "metadata": {},
      "outputs": [
        {
          "name": "stdout",
          "output_type": "stream",
          "text": [
            "Accuracy médio 78.67\n",
            "Intervalo [76.40, 80.94]\n"
          ]
        },
        {
          "data": {
            "image/svg+xml": "<?xml version=\"1.0\" encoding=\"UTF-8\" standalone=\"no\"?>\r\n<!DOCTYPE svg PUBLIC \"-//W3C//DTD SVG 1.1//EN\"\r\n \"http://www.w3.org/Graphics/SVG/1.1/DTD/svg11.dtd\">\r\n<!-- Generated by graphviz version 2.49.2 (20211016.1639)\r\n -->\r\n<!-- Title: Tree Pages: 1 -->\r\n<svg width=\"899pt\" height=\"433pt\"\r\n viewBox=\"0.00 0.00 899.00 433.00\" xmlns=\"http://www.w3.org/2000/svg\" xmlns:xlink=\"http://www.w3.org/1999/xlink\">\r\n<g id=\"graph0\" class=\"graph\" transform=\"scale(1 1) rotate(0) translate(4 429)\">\r\n<title>Tree</title>\r\n<polygon fill=\"white\" stroke=\"transparent\" points=\"-4,4 -4,-429 895,-429 895,4 -4,4\"/>\r\n<!-- 0 -->\r\n<g id=\"node1\" class=\"node\">\r\n<title>0</title>\r\n<path fill=\"#c8e4f8\" stroke=\"black\" d=\"M368.5,-425C368.5,-425 245.5,-425 245.5,-425 239.5,-425 233.5,-419 233.5,-413 233.5,-413 233.5,-354 233.5,-354 233.5,-348 239.5,-342 245.5,-342 245.5,-342 368.5,-342 368.5,-342 374.5,-342 380.5,-348 380.5,-354 380.5,-354 380.5,-413 380.5,-413 380.5,-419 374.5,-425 368.5,-425\"/>\r\n<text text-anchor=\"middle\" x=\"307\" y=\"-409.8\" font-family=\"Helvetica,sans-Serif\" font-size=\"14.00\">preco &lt;= 59982.246</text>\r\n<text text-anchor=\"middle\" x=\"307\" y=\"-394.8\" font-family=\"Helvetica,sans-Serif\" font-size=\"14.00\">gini = 0.487</text>\r\n<text text-anchor=\"middle\" x=\"307\" y=\"-379.8\" font-family=\"Helvetica,sans-Serif\" font-size=\"14.00\">samples = 10000</text>\r\n<text text-anchor=\"middle\" x=\"307\" y=\"-364.8\" font-family=\"Helvetica,sans-Serif\" font-size=\"14.00\">value = [4200, 5800]</text>\r\n<text text-anchor=\"middle\" x=\"307\" y=\"-349.8\" font-family=\"Helvetica,sans-Serif\" font-size=\"14.00\">class = sim</text>\r\n</g>\r\n<!-- 1 -->\r\n<g id=\"node2\" class=\"node\">\r\n<title>1</title>\r\n<path fill=\"#52a9e8\" stroke=\"black\" d=\"M275.5,-306C275.5,-306 152.5,-306 152.5,-306 146.5,-306 140.5,-300 140.5,-294 140.5,-294 140.5,-235 140.5,-235 140.5,-229 146.5,-223 152.5,-223 152.5,-223 275.5,-223 275.5,-223 281.5,-223 287.5,-229 287.5,-235 287.5,-235 287.5,-294 287.5,-294 287.5,-300 281.5,-306 275.5,-306\"/>\r\n<text text-anchor=\"middle\" x=\"214\" y=\"-290.8\" font-family=\"Helvetica,sans-Serif\" font-size=\"14.00\">preco &lt;= 40083.385</text>\r\n<text text-anchor=\"middle\" x=\"214\" y=\"-275.8\" font-family=\"Helvetica,sans-Serif\" font-size=\"14.00\">gini = 0.198</text>\r\n<text text-anchor=\"middle\" x=\"214\" y=\"-260.8\" font-family=\"Helvetica,sans-Serif\" font-size=\"14.00\">samples = 4347</text>\r\n<text text-anchor=\"middle\" x=\"214\" y=\"-245.8\" font-family=\"Helvetica,sans-Serif\" font-size=\"14.00\">value = [484, 3863]</text>\r\n<text text-anchor=\"middle\" x=\"214\" y=\"-230.8\" font-family=\"Helvetica,sans-Serif\" font-size=\"14.00\">class = sim</text>\r\n</g>\r\n<!-- 0&#45;&gt;1 -->\r\n<g id=\"edge1\" class=\"edge\">\r\n<title>0&#45;&gt;1</title>\r\n<path fill=\"none\" stroke=\"black\" d=\"M274.73,-341.91C267.59,-332.92 259.96,-323.32 252.59,-314.05\"/>\r\n<polygon fill=\"black\" stroke=\"black\" points=\"255.17,-311.67 246.21,-306.02 249.69,-316.03 255.17,-311.67\"/>\r\n<text text-anchor=\"middle\" x=\"243.37\" y=\"-327.16\" font-family=\"Helvetica,sans-Serif\" font-size=\"14.00\">True</text>\r\n</g>\r\n<!-- 6 -->\r\n<g id=\"node7\" class=\"node\">\r\n<title>6</title>\r\n<path fill=\"#f3c3a0\" stroke=\"black\" d=\"M538,-306C538,-306 372,-306 372,-306 366,-306 360,-300 360,-294 360,-294 360,-235 360,-235 360,-229 366,-223 372,-223 372,-223 538,-223 538,-223 544,-223 550,-229 550,-235 550,-235 550,-294 550,-294 550,-300 544,-306 538,-306\"/>\r\n<text text-anchor=\"middle\" x=\"455\" y=\"-290.8\" font-family=\"Helvetica,sans-Serif\" font-size=\"14.00\">km_por_ano &lt;= 24124.006</text>\r\n<text text-anchor=\"middle\" x=\"455\" y=\"-275.8\" font-family=\"Helvetica,sans-Serif\" font-size=\"14.00\">gini = 0.45</text>\r\n<text text-anchor=\"middle\" x=\"455\" y=\"-260.8\" font-family=\"Helvetica,sans-Serif\" font-size=\"14.00\">samples = 5653</text>\r\n<text text-anchor=\"middle\" x=\"455\" y=\"-245.8\" font-family=\"Helvetica,sans-Serif\" font-size=\"14.00\">value = [3716, 1937]</text>\r\n<text text-anchor=\"middle\" x=\"455\" y=\"-230.8\" font-family=\"Helvetica,sans-Serif\" font-size=\"14.00\">class = não</text>\r\n</g>\r\n<!-- 0&#45;&gt;6 -->\r\n<g id=\"edge6\" class=\"edge\">\r\n<title>0&#45;&gt;6</title>\r\n<path fill=\"none\" stroke=\"black\" d=\"M358.35,-341.91C370.4,-332.38 383.34,-322.15 395.71,-312.37\"/>\r\n<polygon fill=\"black\" stroke=\"black\" points=\"398.07,-314.97 403.74,-306.02 393.73,-309.48 398.07,-314.97\"/>\r\n<text text-anchor=\"middle\" x=\"400.84\" y=\"-327.15\" font-family=\"Helvetica,sans-Serif\" font-size=\"14.00\">False</text>\r\n</g>\r\n<!-- 2 -->\r\n<g id=\"node3\" class=\"node\">\r\n<title>2</title>\r\n<path fill=\"#399de5\" stroke=\"black\" d=\"M110,-179.5C110,-179.5 12,-179.5 12,-179.5 6,-179.5 0,-173.5 0,-167.5 0,-167.5 0,-123.5 0,-123.5 0,-117.5 6,-111.5 12,-111.5 12,-111.5 110,-111.5 110,-111.5 116,-111.5 122,-117.5 122,-123.5 122,-123.5 122,-167.5 122,-167.5 122,-173.5 116,-179.5 110,-179.5\"/>\r\n<text text-anchor=\"middle\" x=\"61\" y=\"-164.3\" font-family=\"Helvetica,sans-Serif\" font-size=\"14.00\">gini = 0.0</text>\r\n<text text-anchor=\"middle\" x=\"61\" y=\"-149.3\" font-family=\"Helvetica,sans-Serif\" font-size=\"14.00\">samples = 1935</text>\r\n<text text-anchor=\"middle\" x=\"61\" y=\"-134.3\" font-family=\"Helvetica,sans-Serif\" font-size=\"14.00\">value = [0, 1935]</text>\r\n<text text-anchor=\"middle\" x=\"61\" y=\"-119.3\" font-family=\"Helvetica,sans-Serif\" font-size=\"14.00\">class = sim</text>\r\n</g>\r\n<!-- 1&#45;&gt;2 -->\r\n<g id=\"edge2\" class=\"edge\">\r\n<title>1&#45;&gt;2</title>\r\n<path fill=\"none\" stroke=\"black\" d=\"M160.92,-222.91C145.19,-210.88 128,-197.73 112.38,-185.79\"/>\r\n<polygon fill=\"black\" stroke=\"black\" points=\"114.44,-182.96 104.37,-179.67 110.19,-188.52 114.44,-182.96\"/>\r\n</g>\r\n<!-- 3 -->\r\n<g id=\"node4\" class=\"node\">\r\n<title>3</title>\r\n<path fill=\"#6bb6ec\" stroke=\"black\" d=\"M275.5,-187C275.5,-187 152.5,-187 152.5,-187 146.5,-187 140.5,-181 140.5,-175 140.5,-175 140.5,-116 140.5,-116 140.5,-110 146.5,-104 152.5,-104 152.5,-104 275.5,-104 275.5,-104 281.5,-104 287.5,-110 287.5,-116 287.5,-116 287.5,-175 287.5,-175 287.5,-181 281.5,-187 275.5,-187\"/>\r\n<text text-anchor=\"middle\" x=\"214\" y=\"-171.8\" font-family=\"Helvetica,sans-Serif\" font-size=\"14.00\">preco &lt;= 41083.029</text>\r\n<text text-anchor=\"middle\" x=\"214\" y=\"-156.8\" font-family=\"Helvetica,sans-Serif\" font-size=\"14.00\">gini = 0.321</text>\r\n<text text-anchor=\"middle\" x=\"214\" y=\"-141.8\" font-family=\"Helvetica,sans-Serif\" font-size=\"14.00\">samples = 2412</text>\r\n<text text-anchor=\"middle\" x=\"214\" y=\"-126.8\" font-family=\"Helvetica,sans-Serif\" font-size=\"14.00\">value = [484, 1928]</text>\r\n<text text-anchor=\"middle\" x=\"214\" y=\"-111.8\" font-family=\"Helvetica,sans-Serif\" font-size=\"14.00\">class = sim</text>\r\n</g>\r\n<!-- 1&#45;&gt;3 -->\r\n<g id=\"edge3\" class=\"edge\">\r\n<title>1&#45;&gt;3</title>\r\n<path fill=\"none\" stroke=\"black\" d=\"M214,-222.91C214,-214.65 214,-205.86 214,-197.3\"/>\r\n<polygon fill=\"black\" stroke=\"black\" points=\"217.5,-197.02 214,-187.02 210.5,-197.02 217.5,-197.02\"/>\r\n</g>\r\n<!-- 4 -->\r\n<g id=\"node5\" class=\"node\">\r\n<title>4</title>\r\n<path fill=\"#95cbf1\" stroke=\"black\" d=\"M114.5,-68C114.5,-68 25.5,-68 25.5,-68 19.5,-68 13.5,-62 13.5,-56 13.5,-56 13.5,-12 13.5,-12 13.5,-6 19.5,0 25.5,0 25.5,0 114.5,0 114.5,0 120.5,0 126.5,-6 126.5,-12 126.5,-12 126.5,-56 126.5,-56 126.5,-62 120.5,-68 114.5,-68\"/>\r\n<text text-anchor=\"middle\" x=\"70\" y=\"-52.8\" font-family=\"Helvetica,sans-Serif\" font-size=\"14.00\">gini = 0.434</text>\r\n<text text-anchor=\"middle\" x=\"70\" y=\"-37.8\" font-family=\"Helvetica,sans-Serif\" font-size=\"14.00\">samples = 110</text>\r\n<text text-anchor=\"middle\" x=\"70\" y=\"-22.8\" font-family=\"Helvetica,sans-Serif\" font-size=\"14.00\">value = [35, 75]</text>\r\n<text text-anchor=\"middle\" x=\"70\" y=\"-7.8\" font-family=\"Helvetica,sans-Serif\" font-size=\"14.00\">class = sim</text>\r\n</g>\r\n<!-- 3&#45;&gt;4 -->\r\n<g id=\"edge4\" class=\"edge\">\r\n<title>3&#45;&gt;4</title>\r\n<path fill=\"none\" stroke=\"black\" d=\"M160.38,-103.73C147.79,-94.15 134.39,-83.96 121.87,-74.44\"/>\r\n<polygon fill=\"black\" stroke=\"black\" points=\"123.87,-71.57 113.79,-68.3 119.63,-77.14 123.87,-71.57\"/>\r\n</g>\r\n<!-- 5 -->\r\n<g id=\"node6\" class=\"node\">\r\n<title>5</title>\r\n<path fill=\"#69b5eb\" stroke=\"black\" d=\"M271,-68C271,-68 157,-68 157,-68 151,-68 145,-62 145,-56 145,-56 145,-12 145,-12 145,-6 151,0 157,0 157,0 271,0 271,0 277,0 283,-6 283,-12 283,-12 283,-56 283,-56 283,-62 277,-68 271,-68\"/>\r\n<text text-anchor=\"middle\" x=\"214\" y=\"-52.8\" font-family=\"Helvetica,sans-Serif\" font-size=\"14.00\">gini = 0.314</text>\r\n<text text-anchor=\"middle\" x=\"214\" y=\"-37.8\" font-family=\"Helvetica,sans-Serif\" font-size=\"14.00\">samples = 2302</text>\r\n<text text-anchor=\"middle\" x=\"214\" y=\"-22.8\" font-family=\"Helvetica,sans-Serif\" font-size=\"14.00\">value = [449, 1853]</text>\r\n<text text-anchor=\"middle\" x=\"214\" y=\"-7.8\" font-family=\"Helvetica,sans-Serif\" font-size=\"14.00\">class = sim</text>\r\n</g>\r\n<!-- 3&#45;&gt;5 -->\r\n<g id=\"edge5\" class=\"edge\">\r\n<title>3&#45;&gt;5</title>\r\n<path fill=\"none\" stroke=\"black\" d=\"M214,-103.73C214,-95.52 214,-86.86 214,-78.56\"/>\r\n<polygon fill=\"black\" stroke=\"black\" points=\"217.5,-78.3 214,-68.3 210.5,-78.3 217.5,-78.3\"/>\r\n</g>\r\n<!-- 7 -->\r\n<g id=\"node8\" class=\"node\">\r\n<title>7</title>\r\n<path fill=\"#fcefe5\" stroke=\"black\" d=\"M516,-187C516,-187 394,-187 394,-187 388,-187 382,-181 382,-175 382,-175 382,-116 382,-116 382,-110 388,-104 394,-104 394,-104 516,-104 516,-104 522,-104 528,-110 528,-116 528,-116 528,-175 528,-175 528,-181 522,-187 516,-187\"/>\r\n<text text-anchor=\"middle\" x=\"455\" y=\"-171.8\" font-family=\"Helvetica,sans-Serif\" font-size=\"14.00\">preco &lt;= 99974.41</text>\r\n<text text-anchor=\"middle\" x=\"455\" y=\"-156.8\" font-family=\"Helvetica,sans-Serif\" font-size=\"14.00\">gini = 0.498</text>\r\n<text text-anchor=\"middle\" x=\"455\" y=\"-141.8\" font-family=\"Helvetica,sans-Serif\" font-size=\"14.00\">samples = 3513</text>\r\n<text text-anchor=\"middle\" x=\"455\" y=\"-126.8\" font-family=\"Helvetica,sans-Serif\" font-size=\"14.00\">value = [1879, 1634]</text>\r\n<text text-anchor=\"middle\" x=\"455\" y=\"-111.8\" font-family=\"Helvetica,sans-Serif\" font-size=\"14.00\">class = não</text>\r\n</g>\r\n<!-- 6&#45;&gt;7 -->\r\n<g id=\"edge7\" class=\"edge\">\r\n<title>6&#45;&gt;7</title>\r\n<path fill=\"none\" stroke=\"black\" d=\"M455,-222.91C455,-214.65 455,-205.86 455,-197.3\"/>\r\n<polygon fill=\"black\" stroke=\"black\" points=\"458.5,-197.02 455,-187.02 451.5,-197.02 458.5,-197.02\"/>\r\n</g>\r\n<!-- 10 -->\r\n<g id=\"node11\" class=\"node\">\r\n<title>10</title>\r\n<path fill=\"#e9965a\" stroke=\"black\" d=\"M743.5,-187C743.5,-187 612.5,-187 612.5,-187 606.5,-187 600.5,-181 600.5,-175 600.5,-175 600.5,-116 600.5,-116 600.5,-110 606.5,-104 612.5,-104 612.5,-104 743.5,-104 743.5,-104 749.5,-104 755.5,-110 755.5,-116 755.5,-116 755.5,-175 755.5,-175 755.5,-181 749.5,-187 743.5,-187\"/>\r\n<text text-anchor=\"middle\" x=\"678\" y=\"-171.8\" font-family=\"Helvetica,sans-Serif\" font-size=\"14.00\">preco &lt;= 100076.957</text>\r\n<text text-anchor=\"middle\" x=\"678\" y=\"-156.8\" font-family=\"Helvetica,sans-Serif\" font-size=\"14.00\">gini = 0.243</text>\r\n<text text-anchor=\"middle\" x=\"678\" y=\"-141.8\" font-family=\"Helvetica,sans-Serif\" font-size=\"14.00\">samples = 2140</text>\r\n<text text-anchor=\"middle\" x=\"678\" y=\"-126.8\" font-family=\"Helvetica,sans-Serif\" font-size=\"14.00\">value = [1837, 303]</text>\r\n<text text-anchor=\"middle\" x=\"678\" y=\"-111.8\" font-family=\"Helvetica,sans-Serif\" font-size=\"14.00\">class = não</text>\r\n</g>\r\n<!-- 6&#45;&gt;10 -->\r\n<g id=\"edge10\" class=\"edge\">\r\n<title>6&#45;&gt;10</title>\r\n<path fill=\"none\" stroke=\"black\" d=\"M532.37,-222.91C551.57,-212.83 572.26,-201.98 591.85,-191.7\"/>\r\n<polygon fill=\"black\" stroke=\"black\" points=\"593.54,-194.77 600.77,-187.02 590.29,-188.57 593.54,-194.77\"/>\r\n</g>\r\n<!-- 8 -->\r\n<g id=\"node9\" class=\"node\">\r\n<title>8</title>\r\n<path fill=\"#f9e0ce\" stroke=\"black\" d=\"M435,-68C435,-68 313,-68 313,-68 307,-68 301,-62 301,-56 301,-56 301,-12 301,-12 301,-6 307,0 313,0 313,0 435,0 435,0 441,0 447,-6 447,-12 447,-12 447,-56 447,-56 447,-62 441,-68 435,-68\"/>\r\n<text text-anchor=\"middle\" x=\"374\" y=\"-52.8\" font-family=\"Helvetica,sans-Serif\" font-size=\"14.00\">gini = 0.49</text>\r\n<text text-anchor=\"middle\" x=\"374\" y=\"-37.8\" font-family=\"Helvetica,sans-Serif\" font-size=\"14.00\">samples = 2944</text>\r\n<text text-anchor=\"middle\" x=\"374\" y=\"-22.8\" font-family=\"Helvetica,sans-Serif\" font-size=\"14.00\">value = [1682, 1262]</text>\r\n<text text-anchor=\"middle\" x=\"374\" y=\"-7.8\" font-family=\"Helvetica,sans-Serif\" font-size=\"14.00\">class = não</text>\r\n</g>\r\n<!-- 7&#45;&gt;8 -->\r\n<g id=\"edge8\" class=\"edge\">\r\n<title>7&#45;&gt;8</title>\r\n<path fill=\"none\" stroke=\"black\" d=\"M424.84,-103.73C418.23,-94.79 411.22,-85.32 404.59,-76.36\"/>\r\n<polygon fill=\"black\" stroke=\"black\" points=\"407.39,-74.26 398.63,-68.3 401.77,-78.42 407.39,-74.26\"/>\r\n</g>\r\n<!-- 9 -->\r\n<g id=\"node10\" class=\"node\">\r\n<title>9</title>\r\n<path fill=\"#a2d1f3\" stroke=\"black\" d=\"M583,-68C583,-68 477,-68 477,-68 471,-68 465,-62 465,-56 465,-56 465,-12 465,-12 465,-6 471,0 477,0 477,0 583,0 583,0 589,0 595,-6 595,-12 595,-12 595,-56 595,-56 595,-62 589,-68 583,-68\"/>\r\n<text text-anchor=\"middle\" x=\"530\" y=\"-52.8\" font-family=\"Helvetica,sans-Serif\" font-size=\"14.00\">gini = 0.453</text>\r\n<text text-anchor=\"middle\" x=\"530\" y=\"-37.8\" font-family=\"Helvetica,sans-Serif\" font-size=\"14.00\">samples = 569</text>\r\n<text text-anchor=\"middle\" x=\"530\" y=\"-22.8\" font-family=\"Helvetica,sans-Serif\" font-size=\"14.00\">value = [197, 372]</text>\r\n<text text-anchor=\"middle\" x=\"530\" y=\"-7.8\" font-family=\"Helvetica,sans-Serif\" font-size=\"14.00\">class = sim</text>\r\n</g>\r\n<!-- 7&#45;&gt;9 -->\r\n<g id=\"edge9\" class=\"edge\">\r\n<title>7&#45;&gt;9</title>\r\n<path fill=\"none\" stroke=\"black\" d=\"M482.93,-103.73C488.99,-94.88 495.4,-85.51 501.49,-76.63\"/>\r\n<polygon fill=\"black\" stroke=\"black\" points=\"504.43,-78.53 507.19,-68.3 498.65,-74.57 504.43,-78.53\"/>\r\n</g>\r\n<!-- 11 -->\r\n<g id=\"node12\" class=\"node\">\r\n<title>11</title>\r\n<path fill=\"#e68742\" stroke=\"black\" d=\"M731,-68C731,-68 625,-68 625,-68 619,-68 613,-62 613,-56 613,-56 613,-12 613,-12 613,-6 619,0 625,0 625,0 731,0 731,0 737,0 743,-6 743,-12 743,-12 743,-56 743,-56 743,-62 737,-68 731,-68\"/>\r\n<text text-anchor=\"middle\" x=\"678\" y=\"-52.8\" font-family=\"Helvetica,sans-Serif\" font-size=\"14.00\">gini = 0.082</text>\r\n<text text-anchor=\"middle\" x=\"678\" y=\"-37.8\" font-family=\"Helvetica,sans-Serif\" font-size=\"14.00\">samples = 1809</text>\r\n<text text-anchor=\"middle\" x=\"678\" y=\"-22.8\" font-family=\"Helvetica,sans-Serif\" font-size=\"14.00\">value = [1732, 77]</text>\r\n<text text-anchor=\"middle\" x=\"678\" y=\"-7.8\" font-family=\"Helvetica,sans-Serif\" font-size=\"14.00\">class = não</text>\r\n</g>\r\n<!-- 10&#45;&gt;11 -->\r\n<g id=\"edge11\" class=\"edge\">\r\n<title>10&#45;&gt;11</title>\r\n<path fill=\"none\" stroke=\"black\" d=\"M678,-103.73C678,-95.52 678,-86.86 678,-78.56\"/>\r\n<polygon fill=\"black\" stroke=\"black\" points=\"681.5,-78.3 678,-68.3 674.5,-78.3 681.5,-78.3\"/>\r\n</g>\r\n<!-- 12 -->\r\n<g id=\"node13\" class=\"node\">\r\n<title>12</title>\r\n<path fill=\"#95cbf1\" stroke=\"black\" d=\"M879,-68C879,-68 773,-68 773,-68 767,-68 761,-62 761,-56 761,-56 761,-12 761,-12 761,-6 767,0 773,0 773,0 879,0 879,0 885,0 891,-6 891,-12 891,-12 891,-56 891,-56 891,-62 885,-68 879,-68\"/>\r\n<text text-anchor=\"middle\" x=\"826\" y=\"-52.8\" font-family=\"Helvetica,sans-Serif\" font-size=\"14.00\">gini = 0.433</text>\r\n<text text-anchor=\"middle\" x=\"826\" y=\"-37.8\" font-family=\"Helvetica,sans-Serif\" font-size=\"14.00\">samples = 331</text>\r\n<text text-anchor=\"middle\" x=\"826\" y=\"-22.8\" font-family=\"Helvetica,sans-Serif\" font-size=\"14.00\">value = [105, 226]</text>\r\n<text text-anchor=\"middle\" x=\"826\" y=\"-7.8\" font-family=\"Helvetica,sans-Serif\" font-size=\"14.00\">class = sim</text>\r\n</g>\r\n<!-- 10&#45;&gt;12 -->\r\n<g id=\"edge12\" class=\"edge\">\r\n<title>10&#45;&gt;12</title>\r\n<path fill=\"none\" stroke=\"black\" d=\"M733.11,-103.73C746.05,-94.15 759.82,-83.96 772.69,-74.44\"/>\r\n<polygon fill=\"black\" stroke=\"black\" points=\"775.04,-77.06 780.99,-68.3 770.87,-71.43 775.04,-77.06\"/>\r\n</g>\r\n</g>\r\n</svg>\r\n",
            "text/plain": [
              "<graphviz.files.Source at 0x18876d21e80>"
            ]
          },
          "execution_count": 14,
          "metadata": {},
          "output_type": "execute_result"
        }
      ],
      "source": [
        "# Se eu mudar para profundidade 3\n",
        "\n",
        "from sklearn.model_selection import GroupKFold\n",
        "import graphviz\n",
        "from sklearn.tree import export_graphviz\n",
        "\n",
        "SEED = 301\n",
        "np.random.seed(SEED)\n",
        "\n",
        "cv = GroupKFold(n_splits = 10)\n",
        "modelo = DecisionTreeClassifier(max_depth=3)\n",
        "results = cross_validate(modelo, x_azar, y_azar, cv = cv, groups = dados.modelo, return_train_score=False)\n",
        "imprime_resultados(results)\n",
        "\n",
        "modelo.fit(x_azar, y_azar)\n",
        "\n",
        "features = x_azar.columns\n",
        "dot_data = export_graphviz(modelo, out_file=None, filled=True, rounded=True, class_names=['não', 'sim'], feature_names=features)\n",
        "\n",
        "graph = graphviz.Source(dot_data)\n",
        "graph"
      ]
    },
    {
      "cell_type": "markdown",
      "metadata": {},
      "source": [
        "## Explorando hiperparâmetros em uma dimensão."
      ]
    },
    {
      "cell_type": "code",
      "execution_count": 15,
      "metadata": {},
      "outputs": [
        {
          "data": {
            "text/html": [
              "<div>\n",
              "<style scoped>\n",
              "    .dataframe tbody tr th:only-of-type {\n",
              "        vertical-align: middle;\n",
              "    }\n",
              "\n",
              "    .dataframe tbody tr th {\n",
              "        vertical-align: top;\n",
              "    }\n",
              "\n",
              "    .dataframe thead th {\n",
              "        text-align: right;\n",
              "    }\n",
              "</style>\n",
              "<table border=\"1\" class=\"dataframe\">\n",
              "  <thead>\n",
              "    <tr style=\"text-align: right;\">\n",
              "      <th></th>\n",
              "      <th>max_depth</th>\n",
              "      <th>train</th>\n",
              "      <th>test</th>\n",
              "    </tr>\n",
              "  </thead>\n",
              "  <tbody>\n",
              "    <tr>\n",
              "      <th>0</th>\n",
              "      <td>1</td>\n",
              "      <td>75.791169</td>\n",
              "      <td>75.784219</td>\n",
              "    </tr>\n",
              "    <tr>\n",
              "      <th>1</th>\n",
              "      <td>2</td>\n",
              "      <td>75.791169</td>\n",
              "      <td>75.784219</td>\n",
              "    </tr>\n",
              "    <tr>\n",
              "      <th>2</th>\n",
              "      <td>3</td>\n",
              "      <td>78.750993</td>\n",
              "      <td>78.672633</td>\n",
              "    </tr>\n",
              "    <tr>\n",
              "      <th>3</th>\n",
              "      <td>4</td>\n",
              "      <td>78.787628</td>\n",
              "      <td>78.632803</td>\n",
              "    </tr>\n",
              "    <tr>\n",
              "      <th>4</th>\n",
              "      <td>5</td>\n",
              "      <td>78.941007</td>\n",
              "      <td>78.555912</td>\n",
              "    </tr>\n",
              "  </tbody>\n",
              "</table>\n",
              "</div>"
            ],
            "text/plain": [
              "   max_depth      train       test\n",
              "0          1  75.791169  75.784219\n",
              "1          2  75.791169  75.784219\n",
              "2          3  78.750993  78.672633\n",
              "3          4  78.787628  78.632803\n",
              "4          5  78.941007  78.555912"
            ]
          },
          "execution_count": 15,
          "metadata": {},
          "output_type": "execute_result"
        }
      ],
      "source": [
        "# Testando \n",
        "def roda_arvore_de_decisao(max_depth):\n",
        "    SEED = 301\n",
        "    np.random.seed(SEED)\n",
        "\n",
        "    cv = GroupKFold(n_splits = 10)\n",
        "    modelo = DecisionTreeClassifier(max_depth=max_depth)\n",
        "    results = cross_validate(modelo, x_azar, y_azar, cv = cv, groups = dados.modelo, return_train_score=True)\n",
        "    test_score = results['test_score'].mean() * 100\n",
        "    train_score = results['train_score'].mean() * 100\n",
        "    # print(\"Max depth = %d, teste = %.2f, treino = %.2f\" % (max_depth, test_score, train_score))\n",
        "    \n",
        "    tabela = [max_depth, train_score, test_score]\n",
        "\n",
        "    return tabela\n",
        "\n",
        "resultados = [roda_arvore_de_decisao(i) for i in range(1, 33)]\n",
        "resultados = pd.DataFrame(resultados, columns=['max_depth', 'train', 'test'])\n",
        "resultados.head()\n"
      ]
    },
    {
      "cell_type": "markdown",
      "metadata": {},
      "source": [
        "Overfit: Ficou \"perfeito\" demais para o treino mas ruim para o teste."
      ]
    },
    {
      "cell_type": "code",
      "execution_count": 16,
      "metadata": {},
      "outputs": [
        {
          "data": {
            "text/plain": [
              "<matplotlib.legend.Legend at 0x18876d21f70>"
            ]
          },
          "execution_count": 16,
          "metadata": {},
          "output_type": "execute_result"
        },
        {
          "data": {
            "image/png": "[encoded data removed]",
            "text/plain": [
              "<Figure size 432x288 with 1 Axes>"
            ]
          },
          "metadata": {
            "needs_background": "light"
          },
          "output_type": "display_data"
        }
      ],
      "source": [
        "import seaborn as sns\n",
        "import matplotlib.pyplot as plt\n",
        "\n",
        "# plotando treino e teste\n",
        "sns.lineplot(x='max_depth', y='train', data=resultados)\n",
        "sns.lineplot(x='max_depth', y='test', data=resultados)\n",
        "plt.legend(['treino', 'teste'])\n"
      ]
    },
    {
      "cell_type": "markdown",
      "metadata": {},
      "source": [
        "# 02. Explorando 2 dimensões de hiperparâmetros\n",
        "\n",
        "[Artigo](https://ken-hoffman.medium.com/decision-tree-hyperparameters-explained-49158ee1268e)\n"
      ]
    },
    {
      "cell_type": "code",
      "execution_count": 17,
      "metadata": {},
      "outputs": [
        {
          "name": "stdout",
          "output_type": "stream",
          "text": [
            "Max depth = 1, min_samples_leaf = 32 teste = 75.78, treino = 75.79\n",
            "Max depth = 1, min_samples_leaf = 64 teste = 75.78, treino = 75.79\n",
            "Max depth = 1, min_samples_leaf = 128 teste = 75.78, treino = 75.79\n",
            "Max depth = 1, min_samples_leaf = 256 teste = 75.78, treino = 75.79\n",
            "Max depth = 2, min_samples_leaf = 32 teste = 75.78, treino = 75.79\n",
            "Max depth = 2, min_samples_leaf = 64 teste = 75.78, treino = 75.79\n",
            "Max depth = 2, min_samples_leaf = 128 teste = 75.78, treino = 75.79\n",
            "Max depth = 2, min_samples_leaf = 256 teste = 75.78, treino = 75.79\n",
            "Max depth = 3, min_samples_leaf = 32 teste = 78.67, treino = 78.75\n",
            "Max depth = 3, min_samples_leaf = 64 teste = 78.67, treino = 78.75\n",
            "Max depth = 3, min_samples_leaf = 128 teste = 78.67, treino = 78.75\n",
            "Max depth = 3, min_samples_leaf = 256 teste = 78.67, treino = 78.75\n",
            "Max depth = 4, min_samples_leaf = 32 teste = 78.67, treino = 78.75\n",
            "Max depth = 4, min_samples_leaf = 64 teste = 78.67, treino = 78.75\n",
            "Max depth = 4, min_samples_leaf = 128 teste = 78.67, treino = 78.75\n",
            "Max depth = 4, min_samples_leaf = 256 teste = 78.67, treino = 78.75\n",
            "Max depth = 5, min_samples_leaf = 32 teste = 78.50, treino = 78.82\n",
            "Max depth = 5, min_samples_leaf = 64 teste = 78.45, treino = 78.79\n",
            "Max depth = 5, min_samples_leaf = 128 teste = 78.44, treino = 78.77\n",
            "Max depth = 5, min_samples_leaf = 256 teste = 78.44, treino = 78.77\n",
            "Max depth = 6, min_samples_leaf = 32 teste = 78.02, treino = 78.96\n",
            "Max depth = 6, min_samples_leaf = 64 teste = 78.09, treino = 78.92\n",
            "Max depth = 6, min_samples_leaf = 128 teste = 78.27, treino = 78.85\n",
            "Max depth = 6, min_samples_leaf = 256 teste = 78.27, treino = 78.79\n",
            "Max depth = 7, min_samples_leaf = 32 teste = 77.94, treino = 79.24\n",
            "Max depth = 7, min_samples_leaf = 64 teste = 78.05, treino = 79.18\n",
            "Max depth = 7, min_samples_leaf = 128 teste = 78.21, treino = 79.01\n",
            "Max depth = 7, min_samples_leaf = 256 teste = 78.08, treino = 78.85\n",
            "Max depth = 8, min_samples_leaf = 32 teste = 77.93, treino = 79.47\n",
            "Max depth = 8, min_samples_leaf = 64 teste = 77.99, treino = 79.30\n",
            "Max depth = 8, min_samples_leaf = 128 teste = 78.37, treino = 79.05\n",
            "Max depth = 8, min_samples_leaf = 256 teste = 77.94, treino = 78.89\n",
            "Max depth = 9, min_samples_leaf = 32 teste = 77.32, treino = 79.80\n",
            "Max depth = 9, min_samples_leaf = 64 teste = 77.55, treino = 79.46\n",
            "Max depth = 9, min_samples_leaf = 128 teste = 78.30, treino = 79.12\n",
            "Max depth = 9, min_samples_leaf = 256 teste = 77.85, treino = 78.90\n",
            "Max depth = 10, min_samples_leaf = 32 teste = 77.45, treino = 80.05\n",
            "Max depth = 10, min_samples_leaf = 64 teste = 77.64, treino = 79.55\n",
            "Max depth = 10, min_samples_leaf = 128 teste = 78.29, treino = 79.16\n",
            "Max depth = 10, min_samples_leaf = 256 teste = 77.85, treino = 78.90\n",
            "Max depth = 11, min_samples_leaf = 32 teste = 77.20, treino = 80.21\n",
            "Max depth = 11, min_samples_leaf = 64 teste = 77.53, treino = 79.60\n",
            "Max depth = 11, min_samples_leaf = 128 teste = 78.31, treino = 79.19\n",
            "Max depth = 11, min_samples_leaf = 256 teste = 77.85, treino = 78.90\n",
            "Max depth = 12, min_samples_leaf = 32 teste = 77.00, treino = 80.34\n",
            "Max depth = 12, min_samples_leaf = 64 teste = 77.29, treino = 79.72\n",
            "Max depth = 12, min_samples_leaf = 128 teste = 78.22, treino = 79.21\n",
            "Max depth = 12, min_samples_leaf = 256 teste = 77.85, treino = 78.90\n",
            "Max depth = 13, min_samples_leaf = 32 teste = 76.85, treino = 80.51\n",
            "Max depth = 13, min_samples_leaf = 64 teste = 77.34, treino = 79.74\n",
            "Max depth = 13, min_samples_leaf = 128 teste = 78.22, treino = 79.21\n",
            "Max depth = 13, min_samples_leaf = 256 teste = 77.85, treino = 78.90\n",
            "Max depth = 14, min_samples_leaf = 32 teste = 76.69, treino = 80.60\n",
            "Max depth = 14, min_samples_leaf = 64 teste = 77.26, treino = 79.77\n",
            "Max depth = 14, min_samples_leaf = 128 teste = 78.22, treino = 79.21\n",
            "Max depth = 14, min_samples_leaf = 256 teste = 77.85, treino = 78.90\n",
            "Max depth = 15, min_samples_leaf = 32 teste = 76.88, treino = 80.70\n",
            "Max depth = 15, min_samples_leaf = 64 teste = 77.30, treino = 79.79\n",
            "Max depth = 15, min_samples_leaf = 128 teste = 78.22, treino = 79.21\n",
            "Max depth = 15, min_samples_leaf = 256 teste = 77.85, treino = 78.90\n",
            "Max depth = 16, min_samples_leaf = 32 teste = 76.87, treino = 80.76\n",
            "Max depth = 16, min_samples_leaf = 64 teste = 77.30, treino = 79.79\n",
            "Max depth = 16, min_samples_leaf = 128 teste = 78.22, treino = 79.21\n",
            "Max depth = 16, min_samples_leaf = 256 teste = 77.85, treino = 78.90\n",
            "Max depth = 17, min_samples_leaf = 32 teste = 76.98, treino = 80.82\n",
            "Max depth = 17, min_samples_leaf = 64 teste = 77.30, treino = 79.79\n",
            "Max depth = 17, min_samples_leaf = 128 teste = 78.22, treino = 79.21\n",
            "Max depth = 17, min_samples_leaf = 256 teste = 77.85, treino = 78.90\n",
            "Max depth = 18, min_samples_leaf = 32 teste = 76.86, treino = 80.85\n",
            "Max depth = 18, min_samples_leaf = 64 teste = 77.30, treino = 79.79\n",
            "Max depth = 18, min_samples_leaf = 128 teste = 78.22, treino = 79.21\n",
            "Max depth = 18, min_samples_leaf = 256 teste = 77.85, treino = 78.90\n",
            "Max depth = 19, min_samples_leaf = 32 teste = 76.89, treino = 80.86\n",
            "Max depth = 19, min_samples_leaf = 64 teste = 77.30, treino = 79.79\n",
            "Max depth = 19, min_samples_leaf = 128 teste = 78.22, treino = 79.21\n",
            "Max depth = 19, min_samples_leaf = 256 teste = 77.85, treino = 78.90\n",
            "Max depth = 20, min_samples_leaf = 32 teste = 76.87, treino = 80.88\n",
            "Max depth = 20, min_samples_leaf = 64 teste = 77.30, treino = 79.79\n",
            "Max depth = 20, min_samples_leaf = 128 teste = 78.22, treino = 79.21\n",
            "Max depth = 20, min_samples_leaf = 256 teste = 77.85, treino = 78.90\n",
            "Max depth = 21, min_samples_leaf = 32 teste = 76.92, treino = 80.88\n",
            "Max depth = 21, min_samples_leaf = 64 teste = 77.30, treino = 79.79\n",
            "Max depth = 21, min_samples_leaf = 128 teste = 78.22, treino = 79.21\n",
            "Max depth = 21, min_samples_leaf = 256 teste = 77.85, treino = 78.90\n",
            "Max depth = 22, min_samples_leaf = 32 teste = 76.87, treino = 80.88\n",
            "Max depth = 22, min_samples_leaf = 64 teste = 77.30, treino = 79.79\n",
            "Max depth = 22, min_samples_leaf = 128 teste = 78.22, treino = 79.21\n",
            "Max depth = 22, min_samples_leaf = 256 teste = 77.85, treino = 78.90\n",
            "Max depth = 23, min_samples_leaf = 32 teste = 76.87, treino = 80.88\n",
            "Max depth = 23, min_samples_leaf = 64 teste = 77.30, treino = 79.79\n",
            "Max depth = 23, min_samples_leaf = 128 teste = 78.22, treino = 79.21\n",
            "Max depth = 23, min_samples_leaf = 256 teste = 77.85, treino = 78.90\n",
            "Max depth = 24, min_samples_leaf = 32 teste = 76.84, treino = 80.89\n",
            "Max depth = 24, min_samples_leaf = 64 teste = 77.30, treino = 79.79\n",
            "Max depth = 24, min_samples_leaf = 128 teste = 78.22, treino = 79.21\n",
            "Max depth = 24, min_samples_leaf = 256 teste = 77.85, treino = 78.90\n",
            "Max depth = 25, min_samples_leaf = 32 teste = 76.84, treino = 80.89\n",
            "Max depth = 25, min_samples_leaf = 64 teste = 77.30, treino = 79.79\n",
            "Max depth = 25, min_samples_leaf = 128 teste = 78.22, treino = 79.21\n",
            "Max depth = 25, min_samples_leaf = 256 teste = 77.85, treino = 78.90\n",
            "Max depth = 26, min_samples_leaf = 32 teste = 76.84, treino = 80.89\n",
            "Max depth = 26, min_samples_leaf = 64 teste = 77.30, treino = 79.79\n",
            "Max depth = 26, min_samples_leaf = 128 teste = 78.22, treino = 79.21\n",
            "Max depth = 26, min_samples_leaf = 256 teste = 77.85, treino = 78.90\n",
            "Max depth = 27, min_samples_leaf = 32 teste = 76.84, treino = 80.89\n",
            "Max depth = 27, min_samples_leaf = 64 teste = 77.30, treino = 79.79\n",
            "Max depth = 27, min_samples_leaf = 128 teste = 78.22, treino = 79.21\n",
            "Max depth = 27, min_samples_leaf = 256 teste = 77.85, treino = 78.90\n",
            "Max depth = 28, min_samples_leaf = 32 teste = 76.84, treino = 80.89\n",
            "Max depth = 28, min_samples_leaf = 64 teste = 77.30, treino = 79.79\n",
            "Max depth = 28, min_samples_leaf = 128 teste = 78.22, treino = 79.21\n",
            "Max depth = 28, min_samples_leaf = 256 teste = 77.85, treino = 78.90\n",
            "Max depth = 29, min_samples_leaf = 32 teste = 76.84, treino = 80.89\n",
            "Max depth = 29, min_samples_leaf = 64 teste = 77.30, treino = 79.79\n",
            "Max depth = 29, min_samples_leaf = 128 teste = 78.22, treino = 79.21\n",
            "Max depth = 29, min_samples_leaf = 256 teste = 77.85, treino = 78.90\n",
            "Max depth = 30, min_samples_leaf = 32 teste = 76.84, treino = 80.89\n",
            "Max depth = 30, min_samples_leaf = 64 teste = 77.30, treino = 79.79\n",
            "Max depth = 30, min_samples_leaf = 128 teste = 78.22, treino = 79.21\n",
            "Max depth = 30, min_samples_leaf = 256 teste = 77.85, treino = 78.90\n",
            "Max depth = 31, min_samples_leaf = 32 teste = 76.84, treino = 80.89\n",
            "Max depth = 31, min_samples_leaf = 64 teste = 77.30, treino = 79.79\n",
            "Max depth = 31, min_samples_leaf = 128 teste = 78.22, treino = 79.21\n",
            "Max depth = 31, min_samples_leaf = 256 teste = 77.85, treino = 78.90\n",
            "Max depth = 32, min_samples_leaf = 32 teste = 76.84, treino = 80.89\n",
            "Max depth = 32, min_samples_leaf = 64 teste = 77.30, treino = 79.79\n",
            "Max depth = 32, min_samples_leaf = 128 teste = 78.22, treino = 79.21\n",
            "Max depth = 32, min_samples_leaf = 256 teste = 77.85, treino = 78.90\n"
          ]
        },
        {
          "data": {
            "text/html": [
              "<div>\n",
              "<style scoped>\n",
              "    .dataframe tbody tr th:only-of-type {\n",
              "        vertical-align: middle;\n",
              "    }\n",
              "\n",
              "    .dataframe tbody tr th {\n",
              "        vertical-align: top;\n",
              "    }\n",
              "\n",
              "    .dataframe thead th {\n",
              "        text-align: right;\n",
              "    }\n",
              "</style>\n",
              "<table border=\"1\" class=\"dataframe\">\n",
              "  <thead>\n",
              "    <tr style=\"text-align: right;\">\n",
              "      <th></th>\n",
              "      <th>max_depth</th>\n",
              "      <th>min_samples_leaf</th>\n",
              "      <th>train</th>\n",
              "      <th>test</th>\n",
              "    </tr>\n",
              "  </thead>\n",
              "  <tbody>\n",
              "    <tr>\n",
              "      <th>0</th>\n",
              "      <td>1</td>\n",
              "      <td>32</td>\n",
              "      <td>75.791169</td>\n",
              "      <td>75.784219</td>\n",
              "    </tr>\n",
              "    <tr>\n",
              "      <th>1</th>\n",
              "      <td>1</td>\n",
              "      <td>64</td>\n",
              "      <td>75.791169</td>\n",
              "      <td>75.784219</td>\n",
              "    </tr>\n",
              "    <tr>\n",
              "      <th>2</th>\n",
              "      <td>1</td>\n",
              "      <td>128</td>\n",
              "      <td>75.791169</td>\n",
              "      <td>75.784219</td>\n",
              "    </tr>\n",
              "    <tr>\n",
              "      <th>3</th>\n",
              "      <td>1</td>\n",
              "      <td>256</td>\n",
              "      <td>75.791169</td>\n",
              "      <td>75.784219</td>\n",
              "    </tr>\n",
              "    <tr>\n",
              "      <th>4</th>\n",
              "      <td>2</td>\n",
              "      <td>32</td>\n",
              "      <td>75.791169</td>\n",
              "      <td>75.784219</td>\n",
              "    </tr>\n",
              "  </tbody>\n",
              "</table>\n",
              "</div>"
            ],
            "text/plain": [
              "   max_depth  min_samples_leaf      train       test\n",
              "0          1                32  75.791169  75.784219\n",
              "1          1                64  75.791169  75.784219\n",
              "2          1               128  75.791169  75.784219\n",
              "3          1               256  75.791169  75.784219\n",
              "4          2                32  75.791169  75.784219"
            ]
          },
          "execution_count": 17,
          "metadata": {},
          "output_type": "execute_result"
        }
      ],
      "source": [
        "# Testando \n",
        "def roda_arvore_de_decisao(max_depth, min_samples_leaf):\n",
        "    SEED = 301\n",
        "    np.random.seed(SEED)\n",
        "\n",
        "    cv = GroupKFold(n_splits = 10)\n",
        "    modelo = DecisionTreeClassifier(max_depth=max_depth, min_samples_leaf=min_samples_leaf)\n",
        "    results = cross_validate(modelo, x_azar, y_azar, cv = cv, groups = dados.modelo, return_train_score=True)\n",
        "    test_score = results['test_score'].mean() * 100\n",
        "    train_score = results['train_score'].mean() * 100\n",
        "    print(\"Max depth = %d, min_samples_leaf = %d teste = %.2f, treino = %.2f\" % (max_depth, min_samples_leaf, test_score, train_score))\n",
        "    \n",
        "    tabela = [max_depth, min_samples_leaf, train_score, test_score]\n",
        "\n",
        "    return tabela\n",
        "\n",
        "def busca():\n",
        "    resultados = []\n",
        "    for max_depth in range(1, 33):\n",
        "        for min_samples_leaf in [32, 64, 128, 256]:\n",
        "            tabela = roda_arvore_de_decisao(max_depth, min_samples_leaf)\n",
        "            resultados.append(tabela)\n",
        "    resultados = pd.DataFrame(resultados, columns=['max_depth', 'min_samples_leaf', 'train', 'test'])\n",
        "    return resultados\n",
        "\n",
        "resultados = busca()\n",
        "resultados.head()"
      ]
    },
    {
      "cell_type": "code",
      "execution_count": 18,
      "metadata": {},
      "outputs": [
        {
          "data": {
            "text/html": [
              "<div>\n",
              "<style scoped>\n",
              "    .dataframe tbody tr th:only-of-type {\n",
              "        vertical-align: middle;\n",
              "    }\n",
              "\n",
              "    .dataframe tbody tr th {\n",
              "        vertical-align: top;\n",
              "    }\n",
              "\n",
              "    .dataframe thead th {\n",
              "        text-align: right;\n",
              "    }\n",
              "</style>\n",
              "<table border=\"1\" class=\"dataframe\">\n",
              "  <thead>\n",
              "    <tr style=\"text-align: right;\">\n",
              "      <th></th>\n",
              "      <th>max_depth</th>\n",
              "      <th>min_samples_leaf</th>\n",
              "      <th>train</th>\n",
              "      <th>test</th>\n",
              "    </tr>\n",
              "  </thead>\n",
              "  <tbody>\n",
              "    <tr>\n",
              "      <th>15</th>\n",
              "      <td>4</td>\n",
              "      <td>256</td>\n",
              "      <td>78.750993</td>\n",
              "      <td>78.672633</td>\n",
              "    </tr>\n",
              "    <tr>\n",
              "      <th>12</th>\n",
              "      <td>4</td>\n",
              "      <td>32</td>\n",
              "      <td>78.750993</td>\n",
              "      <td>78.672633</td>\n",
              "    </tr>\n",
              "    <tr>\n",
              "      <th>14</th>\n",
              "      <td>4</td>\n",
              "      <td>128</td>\n",
              "      <td>78.750993</td>\n",
              "      <td>78.672633</td>\n",
              "    </tr>\n",
              "    <tr>\n",
              "      <th>13</th>\n",
              "      <td>4</td>\n",
              "      <td>64</td>\n",
              "      <td>78.750993</td>\n",
              "      <td>78.672633</td>\n",
              "    </tr>\n",
              "    <tr>\n",
              "      <th>8</th>\n",
              "      <td>3</td>\n",
              "      <td>32</td>\n",
              "      <td>78.750993</td>\n",
              "      <td>78.672633</td>\n",
              "    </tr>\n",
              "  </tbody>\n",
              "</table>\n",
              "</div>"
            ],
            "text/plain": [
              "    max_depth  min_samples_leaf      train       test\n",
              "15          4               256  78.750993  78.672633\n",
              "12          4                32  78.750993  78.672633\n",
              "14          4               128  78.750993  78.672633\n",
              "13          4                64  78.750993  78.672633\n",
              "8           3                32  78.750993  78.672633"
            ]
          },
          "execution_count": 18,
          "metadata": {},
          "output_type": "execute_result"
        }
      ],
      "source": [
        "# tabela dos melhores:\n",
        "\n",
        "resultados.sort_values(by=['test'], ascending=False).head(5)"
      ]
    },
    {
      "cell_type": "code",
      "execution_count": 19,
      "metadata": {},
      "outputs": [],
      "source": [
        "corr = resultados.corr()"
      ]
    },
    {
      "cell_type": "code",
      "execution_count": 20,
      "metadata": {},
      "outputs": [
        {
          "data": {
            "text/plain": [
              "<AxesSubplot:>"
            ]
          },
          "execution_count": 20,
          "metadata": {},
          "output_type": "execute_result"
        },
        {
          "data": {
            "image/png": "[encoded data removed]",
            "text/plain": [
              "<Figure size 432x288 with 2 Axes>"
            ]
          },
          "metadata": {
            "needs_background": "light"
          },
          "output_type": "display_data"
        }
      ],
      "source": [
        "sns.heatmap(corr, annot=True)"
      ]
    },
    {
      "cell_type": "markdown",
      "metadata": {},
      "source": [
        "Documentação [scatter matriz](https://pandas.pydata.org/docs/reference/api/pandas.plotting.scatter_matrix.html)."
      ]
    },
    {
      "cell_type": "code",
      "execution_count": 21,
      "metadata": {},
      "outputs": [
        {
          "data": {
            "image/png": "[encoded data removed]",
            "text/plain": [
              "<Figure size 1008x576 with 16 Axes>"
            ]
          },
          "metadata": {
            "needs_background": "light"
          },
          "output_type": "display_data"
        }
      ],
      "source": [
        "pd.plotting.scatter_matrix(resultados, figsize=(14,8), alpha=0.3)\n",
        "plt.show()"
      ]
    },
    {
      "cell_type": "markdown",
      "metadata": {},
      "source": [
        "documentação [pairplot](https://seaborn.pydata.org/generated/seaborn.pairplot.html)"
      ]
    },
    {
      "cell_type": "code",
      "execution_count": 22,
      "metadata": {},
      "outputs": [
        {
          "data": {
            "text/plain": [
              "<seaborn.axisgrid.PairGrid at 0x1880409ebe0>"
            ]
          },
          "execution_count": 22,
          "metadata": {},
          "output_type": "execute_result"
        },
        {
          "data": {
            "image/png": "[encoded data removed]",
            "text/plain": [
              "<Figure size 720x720 with 20 Axes>"
            ]
          },
          "metadata": {
            "needs_background": "light"
          },
          "output_type": "display_data"
        }
      ],
      "source": [
        "sns.pairplot(resultados)"
      ]
    },
    {
      "cell_type": "markdown",
      "metadata": {},
      "source": [
        "Documentação [correlation](https://seaborn.pydata.org/examples/many_pairwise_correlations.html)"
      ]
    },
    {
      "cell_type": "code",
      "execution_count": 23,
      "metadata": {},
      "outputs": [
        {
          "data": {
            "text/plain": [
              "array([[ True,  True,  True,  True],\n",
              "       [False,  True,  True,  True],\n",
              "       [False, False,  True,  True],\n",
              "       [False, False, False,  True]])"
            ]
          },
          "execution_count": 23,
          "metadata": {},
          "output_type": "execute_result"
        }
      ],
      "source": [
        "# Generate a mask for the upper triangle\n",
        "mask = np.triu(np.ones_like(corr, dtype=bool))\n",
        "mask"
      ]
    },
    {
      "cell_type": "code",
      "execution_count": 26,
      "metadata": {},
      "outputs": [
        {
          "data": {
            "text/plain": [
              "<AxesSubplot:>"
            ]
          },
          "execution_count": 26,
          "metadata": {},
          "output_type": "execute_result"
        },
        {
          "data": {
            "image/png": "[encoded data removed]",
            "text/plain": [
              "<Figure size 792x648 with 2 Axes>"
            ]
          },
          "metadata": {
            "needs_background": "light"
          },
          "output_type": "display_data"
        }
      ],
      "source": [
        "from string import ascii_letters\n",
        "import numpy as np\n",
        "import pandas as pd\n",
        "import seaborn as sns\n",
        "import matplotlib.pyplot as plt\n",
        "\n",
        "# Generate a mask for the upper triangle\n",
        "mask = np.triu(np.ones_like(corr, dtype=bool))\n",
        "\n",
        "# Set up the matplotlib figure\n",
        "f, ax = plt.subplots(figsize=(11, 9))\n",
        "\n",
        "# Generate a custom diverging colormap\n",
        "cmap = sns.diverging_palette(240, 10, as_cmap=True)\n",
        "\n",
        "# Draw the heatmap with the mask and correct aspect ratio\n",
        "sns.heatmap(corr, mask=mask, cmap=cmap, vmax=.3, center=0,\n",
        "            square=True, linewidths=.5, cbar_kws={\"shrink\": .5})"
      ]
    },
    {
      "cell_type": "code",
      "execution_count": 27,
      "metadata": {},
      "outputs": [
        {
          "data": {
            "text/plain": [
              "<AxesSubplot:>"
            ]
          },
          "execution_count": 27,
          "metadata": {},
          "output_type": "execute_result"
        },
        {
          "data": {
            "image/png": "[encoded data removed]",
            "text/plain": [
              "<Figure size 792x648 with 2 Axes>"
            ]
          },
          "metadata": {
            "needs_background": "light"
          },
          "output_type": "display_data"
        }
      ],
      "source": [
        "from string import ascii_letters\n",
        "import numpy as np\n",
        "import pandas as pd\n",
        "import seaborn as sns\n",
        "import matplotlib.pyplot as plt\n",
        "\n",
        "# Generate a mask for the upper triangle\n",
        "mask = np.triu(np.ones_like(corr, dtype=bool))\n",
        "\n",
        "# Set up the matplotlib figure\n",
        "f, ax = plt.subplots(figsize=(11, 9))\n",
        "\n",
        "# Generate a custom diverging colormap\n",
        "cmap = sns.diverging_palette(230, 20, as_cmap=True)\n",
        "\n",
        "# Draw the heatmap with the mask and correct aspect ratio\n",
        "sns.heatmap(corr, mask=mask, cmap=cmap, vmax=.3, center=0,\n",
        "            square=True, linewidths=.5, cbar_kws={\"shrink\": .5})"
      ]
    },
    {
      "cell_type": "markdown",
      "metadata": {},
      "source": [
        "Repare que somente os dados que nos interessam (ou seja, aqueles que não são equivalentes) são plotados com cores na matriz. Nela, percebemos que parece existir uma correlação muito forte entre test e min_samples_leaf - quanto maior o min_samples_leaf, maior a qualidade do test.\n",
        "\n",
        "Com esses dados em mãos, podemos então testar outros valores. Como obtivemos resultados melhores com 128 e 256, vamos mantê-los, adicionando 192 e 512."
      ]
    },
    {
      "cell_type": "code",
      "execution_count": 28,
      "metadata": {},
      "outputs": [
        {
          "name": "stdout",
          "output_type": "stream",
          "text": [
            "Max depth = 1, min_samples_leaf = 128 teste = 75.78, treino = 75.79\n",
            "Max depth = 1, min_samples_leaf = 192 teste = 75.78, treino = 75.79\n",
            "Max depth = 1, min_samples_leaf = 256 teste = 75.78, treino = 75.79\n",
            "Max depth = 1, min_samples_leaf = 512 teste = 75.78, treino = 75.79\n",
            "Max depth = 2, min_samples_leaf = 128 teste = 75.78, treino = 75.79\n",
            "Max depth = 2, min_samples_leaf = 192 teste = 75.78, treino = 75.79\n",
            "Max depth = 2, min_samples_leaf = 256 teste = 75.78, treino = 75.79\n",
            "Max depth = 2, min_samples_leaf = 512 teste = 75.78, treino = 75.79\n",
            "Max depth = 3, min_samples_leaf = 128 teste = 78.67, treino = 78.75\n",
            "Max depth = 3, min_samples_leaf = 192 teste = 78.67, treino = 78.75\n",
            "Max depth = 3, min_samples_leaf = 256 teste = 78.67, treino = 78.75\n",
            "Max depth = 3, min_samples_leaf = 512 teste = 77.50, treino = 77.53\n",
            "Max depth = 4, min_samples_leaf = 128 teste = 78.67, treino = 78.75\n",
            "Max depth = 4, min_samples_leaf = 192 teste = 78.67, treino = 78.75\n",
            "Max depth = 4, min_samples_leaf = 256 teste = 78.67, treino = 78.75\n",
            "Max depth = 4, min_samples_leaf = 512 teste = 77.50, treino = 77.53\n",
            "Max depth = 5, min_samples_leaf = 128 teste = 78.44, treino = 78.77\n",
            "Max depth = 5, min_samples_leaf = 192 teste = 78.44, treino = 78.77\n",
            "Max depth = 5, min_samples_leaf = 256 teste = 78.44, treino = 78.77\n",
            "Max depth = 5, min_samples_leaf = 512 teste = 77.50, treino = 77.53\n",
            "Max depth = 6, min_samples_leaf = 128 teste = 78.27, treino = 78.85\n",
            "Max depth = 6, min_samples_leaf = 192 teste = 78.31, treino = 78.79\n",
            "Max depth = 6, min_samples_leaf = 256 teste = 78.27, treino = 78.79\n",
            "Max depth = 6, min_samples_leaf = 512 teste = 77.50, treino = 77.53\n",
            "Max depth = 7, min_samples_leaf = 128 teste = 78.21, treino = 79.01\n",
            "Max depth = 7, min_samples_leaf = 192 teste = 78.10, treino = 78.92\n",
            "Max depth = 7, min_samples_leaf = 256 teste = 78.08, treino = 78.85\n",
            "Max depth = 7, min_samples_leaf = 512 teste = 77.50, treino = 77.53\n",
            "Max depth = 8, min_samples_leaf = 128 teste = 78.37, treino = 79.05\n",
            "Max depth = 8, min_samples_leaf = 192 teste = 78.20, treino = 78.98\n",
            "Max depth = 8, min_samples_leaf = 256 teste = 77.94, treino = 78.89\n",
            "Max depth = 8, min_samples_leaf = 512 teste = 77.50, treino = 77.53\n",
            "Max depth = 9, min_samples_leaf = 128 teste = 78.30, treino = 79.12\n",
            "Max depth = 9, min_samples_leaf = 192 teste = 78.11, treino = 78.99\n",
            "Max depth = 9, min_samples_leaf = 256 teste = 77.85, treino = 78.90\n",
            "Max depth = 9, min_samples_leaf = 512 teste = 77.50, treino = 77.53\n",
            "Max depth = 10, min_samples_leaf = 128 teste = 78.29, treino = 79.16\n",
            "Max depth = 10, min_samples_leaf = 192 teste = 78.05, treino = 79.01\n",
            "Max depth = 10, min_samples_leaf = 256 teste = 77.85, treino = 78.90\n",
            "Max depth = 10, min_samples_leaf = 512 teste = 77.50, treino = 77.53\n",
            "Max depth = 11, min_samples_leaf = 128 teste = 78.31, treino = 79.19\n",
            "Max depth = 11, min_samples_leaf = 192 teste = 78.05, treino = 79.01\n",
            "Max depth = 11, min_samples_leaf = 256 teste = 77.85, treino = 78.90\n",
            "Max depth = 11, min_samples_leaf = 512 teste = 77.50, treino = 77.53\n",
            "Max depth = 12, min_samples_leaf = 128 teste = 78.22, treino = 79.21\n",
            "Max depth = 12, min_samples_leaf = 192 teste = 78.05, treino = 79.01\n",
            "Max depth = 12, min_samples_leaf = 256 teste = 77.85, treino = 78.90\n",
            "Max depth = 12, min_samples_leaf = 512 teste = 77.50, treino = 77.53\n",
            "Max depth = 13, min_samples_leaf = 128 teste = 78.22, treino = 79.21\n",
            "Max depth = 13, min_samples_leaf = 192 teste = 78.05, treino = 79.01\n",
            "Max depth = 13, min_samples_leaf = 256 teste = 77.85, treino = 78.90\n",
            "Max depth = 13, min_samples_leaf = 512 teste = 77.50, treino = 77.53\n",
            "Max depth = 14, min_samples_leaf = 128 teste = 78.22, treino = 79.21\n",
            "Max depth = 14, min_samples_leaf = 192 teste = 78.05, treino = 79.01\n",
            "Max depth = 14, min_samples_leaf = 256 teste = 77.85, treino = 78.90\n",
            "Max depth = 14, min_samples_leaf = 512 teste = 77.50, treino = 77.53\n",
            "Max depth = 15, min_samples_leaf = 128 teste = 78.22, treino = 79.21\n",
            "Max depth = 15, min_samples_leaf = 192 teste = 78.05, treino = 79.01\n",
            "Max depth = 15, min_samples_leaf = 256 teste = 77.85, treino = 78.90\n",
            "Max depth = 15, min_samples_leaf = 512 teste = 77.50, treino = 77.53\n",
            "Max depth = 16, min_samples_leaf = 128 teste = 78.22, treino = 79.21\n",
            "Max depth = 16, min_samples_leaf = 192 teste = 78.05, treino = 79.01\n",
            "Max depth = 16, min_samples_leaf = 256 teste = 77.85, treino = 78.90\n",
            "Max depth = 16, min_samples_leaf = 512 teste = 77.50, treino = 77.53\n",
            "Max depth = 17, min_samples_leaf = 128 teste = 78.22, treino = 79.21\n",
            "Max depth = 17, min_samples_leaf = 192 teste = 78.05, treino = 79.01\n",
            "Max depth = 17, min_samples_leaf = 256 teste = 77.85, treino = 78.90\n",
            "Max depth = 17, min_samples_leaf = 512 teste = 77.50, treino = 77.53\n",
            "Max depth = 18, min_samples_leaf = 128 teste = 78.22, treino = 79.21\n",
            "Max depth = 18, min_samples_leaf = 192 teste = 78.05, treino = 79.01\n",
            "Max depth = 18, min_samples_leaf = 256 teste = 77.85, treino = 78.90\n",
            "Max depth = 18, min_samples_leaf = 512 teste = 77.50, treino = 77.53\n",
            "Max depth = 19, min_samples_leaf = 128 teste = 78.22, treino = 79.21\n",
            "Max depth = 19, min_samples_leaf = 192 teste = 78.05, treino = 79.01\n",
            "Max depth = 19, min_samples_leaf = 256 teste = 77.85, treino = 78.90\n",
            "Max depth = 19, min_samples_leaf = 512 teste = 77.50, treino = 77.53\n",
            "Max depth = 20, min_samples_leaf = 128 teste = 78.22, treino = 79.21\n",
            "Max depth = 20, min_samples_leaf = 192 teste = 78.05, treino = 79.01\n",
            "Max depth = 20, min_samples_leaf = 256 teste = 77.85, treino = 78.90\n",
            "Max depth = 20, min_samples_leaf = 512 teste = 77.50, treino = 77.53\n",
            "Max depth = 21, min_samples_leaf = 128 teste = 78.22, treino = 79.21\n",
            "Max depth = 21, min_samples_leaf = 192 teste = 78.05, treino = 79.01\n",
            "Max depth = 21, min_samples_leaf = 256 teste = 77.85, treino = 78.90\n",
            "Max depth = 21, min_samples_leaf = 512 teste = 77.50, treino = 77.53\n",
            "Max depth = 22, min_samples_leaf = 128 teste = 78.22, treino = 79.21\n",
            "Max depth = 22, min_samples_leaf = 192 teste = 78.05, treino = 79.01\n",
            "Max depth = 22, min_samples_leaf = 256 teste = 77.85, treino = 78.90\n",
            "Max depth = 22, min_samples_leaf = 512 teste = 77.50, treino = 77.53\n",
            "Max depth = 23, min_samples_leaf = 128 teste = 78.22, treino = 79.21\n",
            "Max depth = 23, min_samples_leaf = 192 teste = 78.05, treino = 79.01\n",
            "Max depth = 23, min_samples_leaf = 256 teste = 77.85, treino = 78.90\n",
            "Max depth = 23, min_samples_leaf = 512 teste = 77.50, treino = 77.53\n",
            "Max depth = 24, min_samples_leaf = 128 teste = 78.22, treino = 79.21\n",
            "Max depth = 24, min_samples_leaf = 192 teste = 78.05, treino = 79.01\n",
            "Max depth = 24, min_samples_leaf = 256 teste = 77.85, treino = 78.90\n",
            "Max depth = 24, min_samples_leaf = 512 teste = 77.50, treino = 77.53\n",
            "Max depth = 25, min_samples_leaf = 128 teste = 78.22, treino = 79.21\n",
            "Max depth = 25, min_samples_leaf = 192 teste = 78.05, treino = 79.01\n",
            "Max depth = 25, min_samples_leaf = 256 teste = 77.85, treino = 78.90\n",
            "Max depth = 25, min_samples_leaf = 512 teste = 77.50, treino = 77.53\n",
            "Max depth = 26, min_samples_leaf = 128 teste = 78.22, treino = 79.21\n",
            "Max depth = 26, min_samples_leaf = 192 teste = 78.05, treino = 79.01\n",
            "Max depth = 26, min_samples_leaf = 256 teste = 77.85, treino = 78.90\n",
            "Max depth = 26, min_samples_leaf = 512 teste = 77.50, treino = 77.53\n",
            "Max depth = 27, min_samples_leaf = 128 teste = 78.22, treino = 79.21\n",
            "Max depth = 27, min_samples_leaf = 192 teste = 78.05, treino = 79.01\n",
            "Max depth = 27, min_samples_leaf = 256 teste = 77.85, treino = 78.90\n",
            "Max depth = 27, min_samples_leaf = 512 teste = 77.50, treino = 77.53\n",
            "Max depth = 28, min_samples_leaf = 128 teste = 78.22, treino = 79.21\n",
            "Max depth = 28, min_samples_leaf = 192 teste = 78.05, treino = 79.01\n",
            "Max depth = 28, min_samples_leaf = 256 teste = 77.85, treino = 78.90\n",
            "Max depth = 28, min_samples_leaf = 512 teste = 77.50, treino = 77.53\n",
            "Max depth = 29, min_samples_leaf = 128 teste = 78.22, treino = 79.21\n",
            "Max depth = 29, min_samples_leaf = 192 teste = 78.05, treino = 79.01\n",
            "Max depth = 29, min_samples_leaf = 256 teste = 77.85, treino = 78.90\n",
            "Max depth = 29, min_samples_leaf = 512 teste = 77.50, treino = 77.53\n",
            "Max depth = 30, min_samples_leaf = 128 teste = 78.22, treino = 79.21\n",
            "Max depth = 30, min_samples_leaf = 192 teste = 78.05, treino = 79.01\n",
            "Max depth = 30, min_samples_leaf = 256 teste = 77.85, treino = 78.90\n",
            "Max depth = 30, min_samples_leaf = 512 teste = 77.50, treino = 77.53\n",
            "Max depth = 31, min_samples_leaf = 128 teste = 78.22, treino = 79.21\n",
            "Max depth = 31, min_samples_leaf = 192 teste = 78.05, treino = 79.01\n",
            "Max depth = 31, min_samples_leaf = 256 teste = 77.85, treino = 78.90\n",
            "Max depth = 31, min_samples_leaf = 512 teste = 77.50, treino = 77.53\n",
            "Max depth = 32, min_samples_leaf = 128 teste = 78.22, treino = 79.21\n",
            "Max depth = 32, min_samples_leaf = 192 teste = 78.05, treino = 79.01\n",
            "Max depth = 32, min_samples_leaf = 256 teste = 77.85, treino = 78.90\n",
            "Max depth = 32, min_samples_leaf = 512 teste = 77.50, treino = 77.53\n"
          ]
        },
        {
          "data": {
            "text/html": [
              "<div>\n",
              "<style scoped>\n",
              "    .dataframe tbody tr th:only-of-type {\n",
              "        vertical-align: middle;\n",
              "    }\n",
              "\n",
              "    .dataframe tbody tr th {\n",
              "        vertical-align: top;\n",
              "    }\n",
              "\n",
              "    .dataframe thead th {\n",
              "        text-align: right;\n",
              "    }\n",
              "</style>\n",
              "<table border=\"1\" class=\"dataframe\">\n",
              "  <thead>\n",
              "    <tr style=\"text-align: right;\">\n",
              "      <th></th>\n",
              "      <th>max_depth</th>\n",
              "      <th>min_samples_leaf</th>\n",
              "      <th>train</th>\n",
              "      <th>test</th>\n",
              "    </tr>\n",
              "  </thead>\n",
              "  <tbody>\n",
              "    <tr>\n",
              "      <th>0</th>\n",
              "      <td>1</td>\n",
              "      <td>128</td>\n",
              "      <td>75.791169</td>\n",
              "      <td>75.784219</td>\n",
              "    </tr>\n",
              "    <tr>\n",
              "      <th>1</th>\n",
              "      <td>1</td>\n",
              "      <td>192</td>\n",
              "      <td>75.791169</td>\n",
              "      <td>75.784219</td>\n",
              "    </tr>\n",
              "    <tr>\n",
              "      <th>2</th>\n",
              "      <td>1</td>\n",
              "      <td>256</td>\n",
              "      <td>75.791169</td>\n",
              "      <td>75.784219</td>\n",
              "    </tr>\n",
              "    <tr>\n",
              "      <th>3</th>\n",
              "      <td>1</td>\n",
              "      <td>512</td>\n",
              "      <td>75.791169</td>\n",
              "      <td>75.784219</td>\n",
              "    </tr>\n",
              "    <tr>\n",
              "      <th>4</th>\n",
              "      <td>2</td>\n",
              "      <td>128</td>\n",
              "      <td>75.791169</td>\n",
              "      <td>75.784219</td>\n",
              "    </tr>\n",
              "  </tbody>\n",
              "</table>\n",
              "</div>"
            ],
            "text/plain": [
              "   max_depth  min_samples_leaf      train       test\n",
              "0          1               128  75.791169  75.784219\n",
              "1          1               192  75.791169  75.784219\n",
              "2          1               256  75.791169  75.784219\n",
              "3          1               512  75.791169  75.784219\n",
              "4          2               128  75.791169  75.784219"
            ]
          },
          "execution_count": 28,
          "metadata": {},
          "output_type": "execute_result"
        }
      ],
      "source": [
        "def busca():\n",
        "    resultados = []\n",
        "    for max_depth in range(1, 33):\n",
        "        for min_samples_leaf in [128, 192, 256, 512]:\n",
        "            tabela = roda_arvore_de_decisao(max_depth, min_samples_leaf)\n",
        "            resultados.append(tabela)\n",
        "    resultados = pd.DataFrame(resultados, columns=['max_depth', 'min_samples_leaf', 'train', 'test'])\n",
        "    return resultados\n",
        "\n",
        "resultados = busca()\n",
        "resultados.head()"
      ]
    },
    {
      "cell_type": "code",
      "execution_count": 29,
      "metadata": {},
      "outputs": [],
      "source": [
        "corr = resultados.corr()"
      ]
    },
    {
      "cell_type": "code",
      "execution_count": 30,
      "metadata": {},
      "outputs": [
        {
          "data": {
            "text/plain": [
              "<AxesSubplot:>"
            ]
          },
          "execution_count": 30,
          "metadata": {},
          "output_type": "execute_result"
        },
        {
          "data": {
            "image/png": "[encoded data removed]",
            "text/plain": [
              "<Figure size 792x648 with 2 Axes>"
            ]
          },
          "metadata": {
            "needs_background": "light"
          },
          "output_type": "display_data"
        }
      ],
      "source": [
        "from string import ascii_letters\n",
        "import numpy as np\n",
        "import pandas as pd\n",
        "import seaborn as sns\n",
        "import matplotlib.pyplot as plt\n",
        "\n",
        "\n",
        "# Generate a large random dataset\n",
        "rs = np.random.RandomState(33)\n",
        "d = pd.DataFrame(data=rs.normal(size=(100, 26)),\n",
        "                 columns=list(ascii_letters[26:]))\n",
        "\n",
        "# Generate a mask for the upper triangle\n",
        "mask = np.triu(np.ones_like(corr, dtype=bool))\n",
        "\n",
        "# Set up the matplotlib figure\n",
        "f, ax = plt.subplots(figsize=(11, 9))\n",
        "\n",
        "# Generate a custom diverging colormap\n",
        "cmap = sns.diverging_palette(230, 20, as_cmap=True)\n",
        "\n",
        "# Draw the heatmap with the mask and correct aspect ratio\n",
        "sns.heatmap(corr, mask=mask, cmap=cmap, vmax=.3, center=0,\n",
        "            square=True, linewidths=.5, cbar_kws={\"shrink\": .5})"
      ]
    },
    {
      "cell_type": "code",
      "execution_count": 31,
      "metadata": {},
      "outputs": [
        {
          "data": {
            "text/html": [
              "<div>\n",
              "<style scoped>\n",
              "    .dataframe tbody tr th:only-of-type {\n",
              "        vertical-align: middle;\n",
              "    }\n",
              "\n",
              "    .dataframe tbody tr th {\n",
              "        vertical-align: top;\n",
              "    }\n",
              "\n",
              "    .dataframe thead th {\n",
              "        text-align: right;\n",
              "    }\n",
              "</style>\n",
              "<table border=\"1\" class=\"dataframe\">\n",
              "  <thead>\n",
              "    <tr style=\"text-align: right;\">\n",
              "      <th></th>\n",
              "      <th>max_depth</th>\n",
              "      <th>min_samples_leaf</th>\n",
              "      <th>train</th>\n",
              "      <th>test</th>\n",
              "    </tr>\n",
              "  </thead>\n",
              "  <tbody>\n",
              "    <tr>\n",
              "      <th>13</th>\n",
              "      <td>4</td>\n",
              "      <td>192</td>\n",
              "      <td>78.750993</td>\n",
              "      <td>78.672633</td>\n",
              "    </tr>\n",
              "    <tr>\n",
              "      <th>8</th>\n",
              "      <td>3</td>\n",
              "      <td>128</td>\n",
              "      <td>78.750993</td>\n",
              "      <td>78.672633</td>\n",
              "    </tr>\n",
              "    <tr>\n",
              "      <th>9</th>\n",
              "      <td>3</td>\n",
              "      <td>192</td>\n",
              "      <td>78.750993</td>\n",
              "      <td>78.672633</td>\n",
              "    </tr>\n",
              "    <tr>\n",
              "      <th>10</th>\n",
              "      <td>3</td>\n",
              "      <td>256</td>\n",
              "      <td>78.750993</td>\n",
              "      <td>78.672633</td>\n",
              "    </tr>\n",
              "    <tr>\n",
              "      <th>14</th>\n",
              "      <td>4</td>\n",
              "      <td>256</td>\n",
              "      <td>78.750993</td>\n",
              "      <td>78.672633</td>\n",
              "    </tr>\n",
              "  </tbody>\n",
              "</table>\n",
              "</div>"
            ],
            "text/plain": [
              "    max_depth  min_samples_leaf      train       test\n",
              "13          4               192  78.750993  78.672633\n",
              "8           3               128  78.750993  78.672633\n",
              "9           3               192  78.750993  78.672633\n",
              "10          3               256  78.750993  78.672633\n",
              "14          4               256  78.750993  78.672633"
            ]
          },
          "execution_count": 31,
          "metadata": {},
          "output_type": "execute_result"
        }
      ],
      "source": [
        "# tabela dos 5 melhores:\n",
        "\n",
        "resultados.sort_values(by=['test'], ascending=False).head(5)"
      ]
    },
    {
      "cell_type": "markdown",
      "metadata": {},
      "source": [
        "# 03. Trabalhando com 3 ou mais dimensões:\n",
        "\n",
        "Vamos trabalhar agora com, além dos hiperparâmetros anteriores, o min_samples_split\n",
        "\n",
        "## Explorando 3 dimensões de hiperparâmetros:"
      ]
    },
    {
      "cell_type": "code",
      "execution_count": 32,
      "metadata": {},
      "outputs": [
        {
          "data": {
            "text/html": [
              "<div>\n",
              "<style scoped>\n",
              "    .dataframe tbody tr th:only-of-type {\n",
              "        vertical-align: middle;\n",
              "    }\n",
              "\n",
              "    .dataframe tbody tr th {\n",
              "        vertical-align: top;\n",
              "    }\n",
              "\n",
              "    .dataframe thead th {\n",
              "        text-align: right;\n",
              "    }\n",
              "</style>\n",
              "<table border=\"1\" class=\"dataframe\">\n",
              "  <thead>\n",
              "    <tr style=\"text-align: right;\">\n",
              "      <th></th>\n",
              "      <th>max_depth</th>\n",
              "      <th>min_samples_leaf</th>\n",
              "      <th>min_samples_split</th>\n",
              "      <th>train</th>\n",
              "      <th>test</th>\n",
              "      <th>fit_time</th>\n",
              "      <th>score_time</th>\n",
              "    </tr>\n",
              "  </thead>\n",
              "  <tbody>\n",
              "    <tr>\n",
              "      <th>0</th>\n",
              "      <td>1</td>\n",
              "      <td>32</td>\n",
              "      <td>32</td>\n",
              "      <td>75.791169</td>\n",
              "      <td>75.784219</td>\n",
              "      <td>0.005420</td>\n",
              "      <td>0.001772</td>\n",
              "    </tr>\n",
              "    <tr>\n",
              "      <th>1</th>\n",
              "      <td>1</td>\n",
              "      <td>32</td>\n",
              "      <td>64</td>\n",
              "      <td>75.791169</td>\n",
              "      <td>75.784219</td>\n",
              "      <td>0.004132</td>\n",
              "      <td>0.002375</td>\n",
              "    </tr>\n",
              "    <tr>\n",
              "      <th>2</th>\n",
              "      <td>1</td>\n",
              "      <td>32</td>\n",
              "      <td>128</td>\n",
              "      <td>75.791169</td>\n",
              "      <td>75.784219</td>\n",
              "      <td>0.003964</td>\n",
              "      <td>0.002395</td>\n",
              "    </tr>\n",
              "    <tr>\n",
              "      <th>3</th>\n",
              "      <td>1</td>\n",
              "      <td>32</td>\n",
              "      <td>256</td>\n",
              "      <td>75.791169</td>\n",
              "      <td>75.784219</td>\n",
              "      <td>0.005054</td>\n",
              "      <td>0.000578</td>\n",
              "    </tr>\n",
              "    <tr>\n",
              "      <th>4</th>\n",
              "      <td>1</td>\n",
              "      <td>64</td>\n",
              "      <td>32</td>\n",
              "      <td>75.791169</td>\n",
              "      <td>75.784219</td>\n",
              "      <td>0.004174</td>\n",
              "      <td>0.002286</td>\n",
              "    </tr>\n",
              "  </tbody>\n",
              "</table>\n",
              "</div>"
            ],
            "text/plain": [
              "   max_depth  min_samples_leaf  min_samples_split      train       test  \\\n",
              "0          1                32                 32  75.791169  75.784219   \n",
              "1          1                32                 64  75.791169  75.784219   \n",
              "2          1                32                128  75.791169  75.784219   \n",
              "3          1                32                256  75.791169  75.784219   \n",
              "4          1                64                 32  75.791169  75.784219   \n",
              "\n",
              "   fit_time  score_time  \n",
              "0  0.005420    0.001772  \n",
              "1  0.004132    0.002375  \n",
              "2  0.003964    0.002395  \n",
              "3  0.005054    0.000578  \n",
              "4  0.004174    0.002286  "
            ]
          },
          "execution_count": 32,
          "metadata": {},
          "output_type": "execute_result"
        }
      ],
      "source": [
        "def roda_arvore_de_decisao(max_depth, min_samples_leaf, min_samples_split):\n",
        "  SEED = 301\n",
        "  np.random.seed(SEED)\n",
        "\n",
        "  cv = GroupKFold(n_splits = 10)\n",
        "  modelo = DecisionTreeClassifier(max_depth=max_depth, min_samples_leaf = min_samples_leaf, min_samples_split = min_samples_split)\n",
        "  results = cross_validate(modelo, x_azar, y_azar, cv = cv, groups = dados.modelo, return_train_score=True)\n",
        "  train_score = results['train_score'].mean() * 100\n",
        "  test_score = results['test_score'].mean() * 100\n",
        "\n",
        "  tabela = [max_depth, min_samples_leaf, min_samples_split, train_score, test_score, results['fit_time'].mean(),  results['score_time'].mean()]\n",
        "  return tabela\n",
        "\n",
        "def busca():\n",
        "  resultados = []\n",
        "  for max_depth in range(1,33):\n",
        "    for min_samples_leaf in [32, 64, 128, 256]:\n",
        "        for min_samples_split in [32, 64, 128, 256]:\n",
        "          tabela = roda_arvore_de_decisao(max_depth, min_samples_leaf, min_samples_split)\n",
        "          resultados.append(tabela)\n",
        "  resultados = pd.DataFrame(resultados, columns= [\"max_depth\",\"min_samples_leaf\", \"min_samples_split\", \"train\",\"test\", \"fit_time\", \"score_time\"])\n",
        "  return resultados\n",
        "\n",
        "resultados = busca()\n",
        "resultados.head()"
      ]
    },
    {
      "cell_type": "code",
      "execution_count": 33,
      "metadata": {},
      "outputs": [
        {
          "data": {
            "text/plain": [
              "<AxesSubplot:>"
            ]
          },
          "execution_count": 33,
          "metadata": {},
          "output_type": "execute_result"
        },
        {
          "data": {
            "image/png": "[encoded data removed]",
            "text/plain": [
              "<Figure size 792x648 with 2 Axes>"
            ]
          },
          "metadata": {
            "needs_background": "light"
          },
          "output_type": "display_data"
        }
      ],
      "source": [
        "corr = resultados.corr()\n",
        "\n",
        "# Generate a mask for the upper triangle\n",
        "mask = np.triu(np.ones_like(corr, dtype=bool))\n",
        "\n",
        "# Set up the matplotlib figure\n",
        "f, ax = plt.subplots(figsize=(11, 9))\n",
        "\n",
        "# Generate a custom diverging colormap\n",
        "cmap = sns.diverging_palette(230, 20, as_cmap=True)\n",
        "\n",
        "# Draw the heatmap with the mask and correct aspect ratio\n",
        "sns.heatmap(corr, mask=mask, cmap=cmap, vmax=.3, center=0,\n",
        "            square=True, linewidths=.5, cbar_kws={\"shrink\": .5})"
      ]
    },
    {
      "cell_type": "code",
      "execution_count": 34,
      "metadata": {},
      "outputs": [
        {
          "data": {
            "text/html": [
              "<div>\n",
              "<style scoped>\n",
              "    .dataframe tbody tr th:only-of-type {\n",
              "        vertical-align: middle;\n",
              "    }\n",
              "\n",
              "    .dataframe tbody tr th {\n",
              "        vertical-align: top;\n",
              "    }\n",
              "\n",
              "    .dataframe thead th {\n",
              "        text-align: right;\n",
              "    }\n",
              "</style>\n",
              "<table border=\"1\" class=\"dataframe\">\n",
              "  <thead>\n",
              "    <tr style=\"text-align: right;\">\n",
              "      <th></th>\n",
              "      <th>max_depth</th>\n",
              "      <th>min_samples_leaf</th>\n",
              "      <th>min_samples_split</th>\n",
              "      <th>train</th>\n",
              "      <th>test</th>\n",
              "      <th>fit_time</th>\n",
              "      <th>score_time</th>\n",
              "    </tr>\n",
              "  </thead>\n",
              "  <tbody>\n",
              "    <tr>\n",
              "      <th>63</th>\n",
              "      <td>4</td>\n",
              "      <td>256</td>\n",
              "      <td>256</td>\n",
              "      <td>78.750993</td>\n",
              "      <td>78.672633</td>\n",
              "      <td>0.010255</td>\n",
              "      <td>0.001396</td>\n",
              "    </tr>\n",
              "    <tr>\n",
              "      <th>48</th>\n",
              "      <td>4</td>\n",
              "      <td>32</td>\n",
              "      <td>32</td>\n",
              "      <td>78.750993</td>\n",
              "      <td>78.672633</td>\n",
              "      <td>0.007894</td>\n",
              "      <td>0.000605</td>\n",
              "    </tr>\n",
              "    <tr>\n",
              "      <th>34</th>\n",
              "      <td>3</td>\n",
              "      <td>32</td>\n",
              "      <td>128</td>\n",
              "      <td>78.750993</td>\n",
              "      <td>78.672633</td>\n",
              "      <td>0.004445</td>\n",
              "      <td>0.000296</td>\n",
              "    </tr>\n",
              "    <tr>\n",
              "      <th>35</th>\n",
              "      <td>3</td>\n",
              "      <td>32</td>\n",
              "      <td>256</td>\n",
              "      <td>78.750993</td>\n",
              "      <td>78.672633</td>\n",
              "      <td>0.007961</td>\n",
              "      <td>0.000522</td>\n",
              "    </tr>\n",
              "    <tr>\n",
              "      <th>36</th>\n",
              "      <td>3</td>\n",
              "      <td>64</td>\n",
              "      <td>32</td>\n",
              "      <td>78.750993</td>\n",
              "      <td>78.672633</td>\n",
              "      <td>0.008658</td>\n",
              "      <td>0.000906</td>\n",
              "    </tr>\n",
              "  </tbody>\n",
              "</table>\n",
              "</div>"
            ],
            "text/plain": [
              "    max_depth  min_samples_leaf  min_samples_split      train       test  \\\n",
              "63          4               256                256  78.750993  78.672633   \n",
              "48          4                32                 32  78.750993  78.672633   \n",
              "34          3                32                128  78.750993  78.672633   \n",
              "35          3                32                256  78.750993  78.672633   \n",
              "36          3                64                 32  78.750993  78.672633   \n",
              "\n",
              "    fit_time  score_time  \n",
              "63  0.010255    0.001396  \n",
              "48  0.007894    0.000605  \n",
              "34  0.004445    0.000296  \n",
              "35  0.007961    0.000522  \n",
              "36  0.008658    0.000906  "
            ]
          },
          "execution_count": 34,
          "metadata": {},
          "output_type": "execute_result"
        }
      ],
      "source": [
        "\n",
        "resultados.sort_values(by=['test'], ascending=False).head(5)"
      ]
    },
    {
      "cell_type": "markdown",
      "metadata": {},
      "source": [
        "# 04. Busca de parâmetros com o [GridSearchCV](https://scikit-learn.org/stable/modules/generated/sklearn.model_selection.GridSearchCV.html)\n",
        "\n",
        "Agora que já aprendemos a importância de uma busca em grid pelos parâmetros que maximizam a métrica que estamos utilizando no nosso sistema, queremos utilizar uma ferramenta que nos ajude nesse processo."
      ]
    },
    {
      "cell_type": "code",
      "execution_count": 35,
      "metadata": {},
      "outputs": [
        {
          "data": {
            "text/html": [
              "<div>\n",
              "<style scoped>\n",
              "    .dataframe tbody tr th:only-of-type {\n",
              "        vertical-align: middle;\n",
              "    }\n",
              "\n",
              "    .dataframe tbody tr th {\n",
              "        vertical-align: top;\n",
              "    }\n",
              "\n",
              "    .dataframe thead th {\n",
              "        text-align: right;\n",
              "    }\n",
              "</style>\n",
              "<table border=\"1\" class=\"dataframe\">\n",
              "  <thead>\n",
              "    <tr style=\"text-align: right;\">\n",
              "      <th></th>\n",
              "      <th>mean_fit_time</th>\n",
              "      <th>std_fit_time</th>\n",
              "      <th>mean_score_time</th>\n",
              "      <th>std_score_time</th>\n",
              "      <th>param_criterion</th>\n",
              "      <th>param_max_depth</th>\n",
              "      <th>param_min_samples_leaf</th>\n",
              "      <th>param_min_samples_split</th>\n",
              "      <th>params</th>\n",
              "      <th>split0_test_score</th>\n",
              "      <th>...</th>\n",
              "      <th>split3_test_score</th>\n",
              "      <th>split4_test_score</th>\n",
              "      <th>split5_test_score</th>\n",
              "      <th>split6_test_score</th>\n",
              "      <th>split7_test_score</th>\n",
              "      <th>split8_test_score</th>\n",
              "      <th>split9_test_score</th>\n",
              "      <th>mean_test_score</th>\n",
              "      <th>std_test_score</th>\n",
              "      <th>rank_test_score</th>\n",
              "    </tr>\n",
              "  </thead>\n",
              "  <tbody>\n",
              "    <tr>\n",
              "      <th>0</th>\n",
              "      <td>0.009711</td>\n",
              "      <td>0.001224</td>\n",
              "      <td>0.001678</td>\n",
              "      <td>0.000483</td>\n",
              "      <td>gini</td>\n",
              "      <td>3</td>\n",
              "      <td>32</td>\n",
              "      <td>32</td>\n",
              "      <td>{'criterion': 'gini', 'max_depth': 3, 'min_sam...</td>\n",
              "      <td>0.804757</td>\n",
              "      <td>...</td>\n",
              "      <td>0.78408</td>\n",
              "      <td>0.783181</td>\n",
              "      <td>0.797809</td>\n",
              "      <td>0.762866</td>\n",
              "      <td>0.781818</td>\n",
              "      <td>0.77551</td>\n",
              "      <td>0.790262</td>\n",
              "      <td>0.786726</td>\n",
              "      <td>0.011361</td>\n",
              "      <td>1</td>\n",
              "    </tr>\n",
              "    <tr>\n",
              "      <th>1</th>\n",
              "      <td>0.008482</td>\n",
              "      <td>0.000889</td>\n",
              "      <td>0.001594</td>\n",
              "      <td>0.000471</td>\n",
              "      <td>gini</td>\n",
              "      <td>3</td>\n",
              "      <td>32</td>\n",
              "      <td>64</td>\n",
              "      <td>{'criterion': 'gini', 'max_depth': 3, 'min_sam...</td>\n",
              "      <td>0.804757</td>\n",
              "      <td>...</td>\n",
              "      <td>0.78408</td>\n",
              "      <td>0.783181</td>\n",
              "      <td>0.797809</td>\n",
              "      <td>0.762866</td>\n",
              "      <td>0.781818</td>\n",
              "      <td>0.77551</td>\n",
              "      <td>0.790262</td>\n",
              "      <td>0.786726</td>\n",
              "      <td>0.011361</td>\n",
              "      <td>1</td>\n",
              "    </tr>\n",
              "    <tr>\n",
              "      <th>2</th>\n",
              "      <td>0.008359</td>\n",
              "      <td>0.000587</td>\n",
              "      <td>0.001631</td>\n",
              "      <td>0.000635</td>\n",
              "      <td>gini</td>\n",
              "      <td>3</td>\n",
              "      <td>32</td>\n",
              "      <td>128</td>\n",
              "      <td>{'criterion': 'gini', 'max_depth': 3, 'min_sam...</td>\n",
              "      <td>0.804757</td>\n",
              "      <td>...</td>\n",
              "      <td>0.78408</td>\n",
              "      <td>0.783181</td>\n",
              "      <td>0.797809</td>\n",
              "      <td>0.762866</td>\n",
              "      <td>0.781818</td>\n",
              "      <td>0.77551</td>\n",
              "      <td>0.790262</td>\n",
              "      <td>0.786726</td>\n",
              "      <td>0.011361</td>\n",
              "      <td>1</td>\n",
              "    </tr>\n",
              "    <tr>\n",
              "      <th>3</th>\n",
              "      <td>0.008553</td>\n",
              "      <td>0.000879</td>\n",
              "      <td>0.001669</td>\n",
              "      <td>0.000700</td>\n",
              "      <td>gini</td>\n",
              "      <td>3</td>\n",
              "      <td>64</td>\n",
              "      <td>32</td>\n",
              "      <td>{'criterion': 'gini', 'max_depth': 3, 'min_sam...</td>\n",
              "      <td>0.804757</td>\n",
              "      <td>...</td>\n",
              "      <td>0.78408</td>\n",
              "      <td>0.783181</td>\n",
              "      <td>0.797809</td>\n",
              "      <td>0.762866</td>\n",
              "      <td>0.781818</td>\n",
              "      <td>0.77551</td>\n",
              "      <td>0.790262</td>\n",
              "      <td>0.786726</td>\n",
              "      <td>0.011361</td>\n",
              "      <td>1</td>\n",
              "    </tr>\n",
              "    <tr>\n",
              "      <th>4</th>\n",
              "      <td>0.009626</td>\n",
              "      <td>0.001141</td>\n",
              "      <td>0.001960</td>\n",
              "      <td>0.000424</td>\n",
              "      <td>gini</td>\n",
              "      <td>3</td>\n",
              "      <td>64</td>\n",
              "      <td>64</td>\n",
              "      <td>{'criterion': 'gini', 'max_depth': 3, 'min_sam...</td>\n",
              "      <td>0.804757</td>\n",
              "      <td>...</td>\n",
              "      <td>0.78408</td>\n",
              "      <td>0.783181</td>\n",
              "      <td>0.797809</td>\n",
              "      <td>0.762866</td>\n",
              "      <td>0.781818</td>\n",
              "      <td>0.77551</td>\n",
              "      <td>0.790262</td>\n",
              "      <td>0.786726</td>\n",
              "      <td>0.011361</td>\n",
              "      <td>1</td>\n",
              "    </tr>\n",
              "  </tbody>\n",
              "</table>\n",
              "<p>5 rows × 22 columns</p>\n",
              "</div>"
            ],
            "text/plain": [
              "   mean_fit_time  std_fit_time  mean_score_time  std_score_time  \\\n",
              "0       0.009711      0.001224         0.001678        0.000483   \n",
              "1       0.008482      0.000889         0.001594        0.000471   \n",
              "2       0.008359      0.000587         0.001631        0.000635   \n",
              "3       0.008553      0.000879         0.001669        0.000700   \n",
              "4       0.009626      0.001141         0.001960        0.000424   \n",
              "\n",
              "  param_criterion param_max_depth param_min_samples_leaf  \\\n",
              "0            gini               3                     32   \n",
              "1            gini               3                     32   \n",
              "2            gini               3                     32   \n",
              "3            gini               3                     64   \n",
              "4            gini               3                     64   \n",
              "\n",
              "  param_min_samples_split                                             params  \\\n",
              "0                      32  {'criterion': 'gini', 'max_depth': 3, 'min_sam...   \n",
              "1                      64  {'criterion': 'gini', 'max_depth': 3, 'min_sam...   \n",
              "2                     128  {'criterion': 'gini', 'max_depth': 3, 'min_sam...   \n",
              "3                      32  {'criterion': 'gini', 'max_depth': 3, 'min_sam...   \n",
              "4                      64  {'criterion': 'gini', 'max_depth': 3, 'min_sam...   \n",
              "\n",
              "   split0_test_score  ...  split3_test_score  split4_test_score  \\\n",
              "0           0.804757  ...            0.78408           0.783181   \n",
              "1           0.804757  ...            0.78408           0.783181   \n",
              "2           0.804757  ...            0.78408           0.783181   \n",
              "3           0.804757  ...            0.78408           0.783181   \n",
              "4           0.804757  ...            0.78408           0.783181   \n",
              "\n",
              "   split5_test_score  split6_test_score  split7_test_score  split8_test_score  \\\n",
              "0           0.797809           0.762866           0.781818            0.77551   \n",
              "1           0.797809           0.762866           0.781818            0.77551   \n",
              "2           0.797809           0.762866           0.781818            0.77551   \n",
              "3           0.797809           0.762866           0.781818            0.77551   \n",
              "4           0.797809           0.762866           0.781818            0.77551   \n",
              "\n",
              "   split9_test_score  mean_test_score  std_test_score  rank_test_score  \n",
              "0           0.790262         0.786726        0.011361                1  \n",
              "1           0.790262         0.786726        0.011361                1  \n",
              "2           0.790262         0.786726        0.011361                1  \n",
              "3           0.790262         0.786726        0.011361                1  \n",
              "4           0.790262         0.786726        0.011361                1  \n",
              "\n",
              "[5 rows x 22 columns]"
            ]
          },
          "execution_count": 35,
          "metadata": {},
          "output_type": "execute_result"
        }
      ],
      "source": [
        "from sklearn.model_selection import GridSearchCV\n",
        "\n",
        "SEED = 301\n",
        "np.random.seed(SEED)\n",
        "\n",
        "espaco_de_parametros = {\n",
        "    \"max_depth\": [3, 5],\n",
        "    \"min_samples_split\": [32, 64, 128],\n",
        "    \"min_samples_leaf\": [32, 64, 128],\n",
        "    \"criterion\": [\"gini\", \"entropy\"]\n",
        "}\n",
        "\n",
        "busca = GridSearchCV(DecisionTreeClassifier(), espaco_de_parametros, cv=GroupKFold(n_splits=10))\n",
        "busca.fit(x_azar, y_azar, groups=dados.modelo)\n",
        "\n",
        "resultados = pd.DataFrame(busca.cv_results_)\n",
        "\n",
        "resultados.head()"
      ]
    },
    {
      "cell_type": "code",
      "execution_count": 37,
      "metadata": {},
      "outputs": [
        {
          "name": "stdout",
          "output_type": "stream",
          "text": [
            "{'criterion': 'gini', 'max_depth': 3, 'min_samples_leaf': 32, 'min_samples_split': 32}\n",
            "78.67263337284332\n"
          ]
        }
      ],
      "source": [
        "print(busca.best_params_)\n",
        "print(busca.best_score_*100)"
      ]
    },
    {
      "cell_type": "code",
      "execution_count": 38,
      "metadata": {},
      "outputs": [
        {
          "data": {
            "text/plain": [
              "DecisionTreeClassifier(max_depth=3, min_samples_leaf=32, min_samples_split=32)"
            ]
          },
          "execution_count": 38,
          "metadata": {},
          "output_type": "execute_result"
        }
      ],
      "source": [
        "melhor = busca.best_estimator_\n",
        "melhor"
      ]
    },
    {
      "cell_type": "code",
      "execution_count": 41,
      "metadata": {},
      "outputs": [
        {
          "name": "stdout",
          "output_type": "stream",
          "text": [
            "Accuracy para os dados foi 78.75%\n"
          ]
        }
      ],
      "source": [
        "from sklearn.metrics import accuracy_score \n",
        "\n",
        "# Evitar essa abordagem pois ela será muito otimista.\n",
        "predicoes = melhor.predict(x_azar) \n",
        "accuracy = accuracy_score(predicoes, y_azar) * 100\n",
        "\n",
        "print(\"Accuracy para os dados foi %.2f%%\" % accuracy)"
      ]
    },
    {
      "cell_type": "markdown",
      "metadata": {},
      "source": [
        "# 05. Nested cross validation e validando o modelo escolhido\n",
        "\n",
        "Utilizamos o **GridSearchCV** do SKLearn para encontrarmos o melhor conjunto de hiperparâmetros em um espaço definido, de modo a otimizar a nossa métrica (*accuracy*). Quando tentamos analisar quão bem nosso algoritmo se sairia no mundo real, pegamos o melhor conjunto (representado por `melhor`) e utilizamos um `predict()` em cima de `x_azar` - ou seja, com todos os dados e uma única vez. Porém, durante o nosso processo de aprendizado, utilizamos o *cross validation*, e existem alguns cuidados que devemos tomar a esse respeito.\n",
        "\n",
        "[Nested versus non-nested cross-validation](https://scikit-learn.org/stable/auto_examples/model_selection/plot_nested_cross_validation_iris.html).\n",
        "\n",
        "## Como ter uma estimativa sem esse vício nos dados que eu já vi?\n",
        "\n",
        "No caso de cross validation com busca de hiper parâmetros, fazemos uma nova validação cruzada. Chama-se nested cross validation"
      ]
    },
    {
      "cell_type": "code",
      "execution_count": 43,
      "metadata": {},
      "outputs": [
        {
          "name": "stderr",
          "output_type": "stream",
          "text": [
            "C:\\Users\\Bruno\\Anaconda3\\envs\\ambiente\\lib\\site-packages\\sklearn\\model_selection\\_validation.py:372: FitFailedWarning: \n",
            "10 fits failed out of a total of 10.\n",
            "The score on these train-test partitions for these parameters will be set to nan.\n",
            "If these failures are not expected, you can try to debug them by setting error_score='raise'.\n",
            "\n",
            "Below are more details about the failures:\n",
            "--------------------------------------------------------------------------------\n",
            "10 fits failed with the following error:\n",
            "Traceback (most recent call last):\n",
            "  File \"C:\\Users\\Bruno\\Anaconda3\\envs\\ambiente\\lib\\site-packages\\sklearn\\model_selection\\_validation.py\", line 681, in _fit_and_score\n",
            "    estimator.fit(X_train, y_train, **fit_params)\n",
            "  File \"C:\\Users\\Bruno\\Anaconda3\\envs\\ambiente\\lib\\site-packages\\sklearn\\model_selection\\_search.py\", line 891, in fit\n",
            "    self._run_search(evaluate_candidates)\n",
            "  File \"C:\\Users\\Bruno\\Anaconda3\\envs\\ambiente\\lib\\site-packages\\sklearn\\model_selection\\_search.py\", line 1392, in _run_search\n",
            "    evaluate_candidates(ParameterGrid(self.param_grid))\n",
            "  File \"C:\\Users\\Bruno\\Anaconda3\\envs\\ambiente\\lib\\site-packages\\sklearn\\model_selection\\_search.py\", line 850, in evaluate_candidates\n",
            "    for (cand_idx, parameters), (split_idx, (train, test)) in product(\n",
            "  File \"C:\\Users\\Bruno\\Anaconda3\\envs\\ambiente\\lib\\site-packages\\sklearn\\model_selection\\_split.py\", line 340, in split\n",
            "    for train, test in super().split(X, y, groups):\n",
            "  File \"C:\\Users\\Bruno\\Anaconda3\\envs\\ambiente\\lib\\site-packages\\sklearn\\model_selection\\_split.py\", line 86, in split\n",
            "    for test_index in self._iter_test_masks(X, y, groups):\n",
            "  File \"C:\\Users\\Bruno\\Anaconda3\\envs\\ambiente\\lib\\site-packages\\sklearn\\model_selection\\_split.py\", line 98, in _iter_test_masks\n",
            "    for test_index in self._iter_test_indices(X, y, groups):\n",
            "  File \"C:\\Users\\Bruno\\Anaconda3\\envs\\ambiente\\lib\\site-packages\\sklearn\\model_selection\\_split.py\", line 510, in _iter_test_indices\n",
            "    raise ValueError(\"The 'groups' parameter should not be None.\")\n",
            "ValueError: The 'groups' parameter should not be None.\n",
            "\n",
            "  warnings.warn(some_fits_failed_message, FitFailedWarning)\n"
          ]
        }
      ],
      "source": [
        "from sklearn.model_selection import cross_val_score\n",
        "\n",
        "scores = cross_val_score(busca, x_azar, y_azar, cv = GroupKFold(n_splits=10), groups = dados.modelo)"
      ]
    },
    {
      "cell_type": "markdown",
      "metadata": {},
      "source": [
        "Infelizmente como o Pandas não suporta nested validation com group k fold não conseguimos prever o resultado para novos grupos."
      ]
    },
    {
      "cell_type": "code",
      "execution_count": 45,
      "metadata": {},
      "outputs": [
        {
          "data": {
            "text/html": [
              "<div>\n",
              "<style scoped>\n",
              "    .dataframe tbody tr th:only-of-type {\n",
              "        vertical-align: middle;\n",
              "    }\n",
              "\n",
              "    .dataframe tbody tr th {\n",
              "        vertical-align: top;\n",
              "    }\n",
              "\n",
              "    .dataframe thead th {\n",
              "        text-align: right;\n",
              "    }\n",
              "</style>\n",
              "<table border=\"1\" class=\"dataframe\">\n",
              "  <thead>\n",
              "    <tr style=\"text-align: right;\">\n",
              "      <th></th>\n",
              "      <th>mean_fit_time</th>\n",
              "      <th>std_fit_time</th>\n",
              "      <th>mean_score_time</th>\n",
              "      <th>std_score_time</th>\n",
              "      <th>param_criterion</th>\n",
              "      <th>param_max_depth</th>\n",
              "      <th>param_min_samples_leaf</th>\n",
              "      <th>param_min_samples_split</th>\n",
              "      <th>params</th>\n",
              "      <th>split0_test_score</th>\n",
              "      <th>split1_test_score</th>\n",
              "      <th>split2_test_score</th>\n",
              "      <th>split3_test_score</th>\n",
              "      <th>split4_test_score</th>\n",
              "      <th>mean_test_score</th>\n",
              "      <th>std_test_score</th>\n",
              "      <th>rank_test_score</th>\n",
              "    </tr>\n",
              "  </thead>\n",
              "  <tbody>\n",
              "    <tr>\n",
              "      <th>0</th>\n",
              "      <td>0.009016</td>\n",
              "      <td>0.000534</td>\n",
              "      <td>0.002578</td>\n",
              "      <td>0.001498</td>\n",
              "      <td>gini</td>\n",
              "      <td>3</td>\n",
              "      <td>32</td>\n",
              "      <td>32</td>\n",
              "      <td>{'criterion': 'gini', 'max_depth': 3, 'min_sam...</td>\n",
              "      <td>0.784</td>\n",
              "      <td>0.776</td>\n",
              "      <td>0.8025</td>\n",
              "      <td>0.793</td>\n",
              "      <td>0.7795</td>\n",
              "      <td>0.787</td>\n",
              "      <td>0.009618</td>\n",
              "      <td>1</td>\n",
              "    </tr>\n",
              "    <tr>\n",
              "      <th>1</th>\n",
              "      <td>0.008835</td>\n",
              "      <td>0.000702</td>\n",
              "      <td>0.001780</td>\n",
              "      <td>0.000393</td>\n",
              "      <td>gini</td>\n",
              "      <td>3</td>\n",
              "      <td>32</td>\n",
              "      <td>64</td>\n",
              "      <td>{'criterion': 'gini', 'max_depth': 3, 'min_sam...</td>\n",
              "      <td>0.784</td>\n",
              "      <td>0.776</td>\n",
              "      <td>0.8025</td>\n",
              "      <td>0.793</td>\n",
              "      <td>0.7795</td>\n",
              "      <td>0.787</td>\n",
              "      <td>0.009618</td>\n",
              "      <td>1</td>\n",
              "    </tr>\n",
              "    <tr>\n",
              "      <th>2</th>\n",
              "      <td>0.007918</td>\n",
              "      <td>0.000185</td>\n",
              "      <td>0.001800</td>\n",
              "      <td>0.000744</td>\n",
              "      <td>gini</td>\n",
              "      <td>3</td>\n",
              "      <td>32</td>\n",
              "      <td>128</td>\n",
              "      <td>{'criterion': 'gini', 'max_depth': 3, 'min_sam...</td>\n",
              "      <td>0.784</td>\n",
              "      <td>0.776</td>\n",
              "      <td>0.8025</td>\n",
              "      <td>0.793</td>\n",
              "      <td>0.7795</td>\n",
              "      <td>0.787</td>\n",
              "      <td>0.009618</td>\n",
              "      <td>1</td>\n",
              "    </tr>\n",
              "    <tr>\n",
              "      <th>3</th>\n",
              "      <td>0.007956</td>\n",
              "      <td>0.001162</td>\n",
              "      <td>0.002142</td>\n",
              "      <td>0.000665</td>\n",
              "      <td>gini</td>\n",
              "      <td>3</td>\n",
              "      <td>64</td>\n",
              "      <td>32</td>\n",
              "      <td>{'criterion': 'gini', 'max_depth': 3, 'min_sam...</td>\n",
              "      <td>0.784</td>\n",
              "      <td>0.776</td>\n",
              "      <td>0.8025</td>\n",
              "      <td>0.793</td>\n",
              "      <td>0.7795</td>\n",
              "      <td>0.787</td>\n",
              "      <td>0.009618</td>\n",
              "      <td>1</td>\n",
              "    </tr>\n",
              "    <tr>\n",
              "      <th>4</th>\n",
              "      <td>0.007615</td>\n",
              "      <td>0.000446</td>\n",
              "      <td>0.001783</td>\n",
              "      <td>0.000918</td>\n",
              "      <td>gini</td>\n",
              "      <td>3</td>\n",
              "      <td>64</td>\n",
              "      <td>64</td>\n",
              "      <td>{'criterion': 'gini', 'max_depth': 3, 'min_sam...</td>\n",
              "      <td>0.784</td>\n",
              "      <td>0.776</td>\n",
              "      <td>0.8025</td>\n",
              "      <td>0.793</td>\n",
              "      <td>0.7795</td>\n",
              "      <td>0.787</td>\n",
              "      <td>0.009618</td>\n",
              "      <td>1</td>\n",
              "    </tr>\n",
              "  </tbody>\n",
              "</table>\n",
              "</div>"
            ],
            "text/plain": [
              "   mean_fit_time  std_fit_time  mean_score_time  std_score_time  \\\n",
              "0       0.009016      0.000534         0.002578        0.001498   \n",
              "1       0.008835      0.000702         0.001780        0.000393   \n",
              "2       0.007918      0.000185         0.001800        0.000744   \n",
              "3       0.007956      0.001162         0.002142        0.000665   \n",
              "4       0.007615      0.000446         0.001783        0.000918   \n",
              "\n",
              "  param_criterion param_max_depth param_min_samples_leaf  \\\n",
              "0            gini               3                     32   \n",
              "1            gini               3                     32   \n",
              "2            gini               3                     32   \n",
              "3            gini               3                     64   \n",
              "4            gini               3                     64   \n",
              "\n",
              "  param_min_samples_split                                             params  \\\n",
              "0                      32  {'criterion': 'gini', 'max_depth': 3, 'min_sam...   \n",
              "1                      64  {'criterion': 'gini', 'max_depth': 3, 'min_sam...   \n",
              "2                     128  {'criterion': 'gini', 'max_depth': 3, 'min_sam...   \n",
              "3                      32  {'criterion': 'gini', 'max_depth': 3, 'min_sam...   \n",
              "4                      64  {'criterion': 'gini', 'max_depth': 3, 'min_sam...   \n",
              "\n",
              "   split0_test_score  split1_test_score  split2_test_score  split3_test_score  \\\n",
              "0              0.784              0.776             0.8025              0.793   \n",
              "1              0.784              0.776             0.8025              0.793   \n",
              "2              0.784              0.776             0.8025              0.793   \n",
              "3              0.784              0.776             0.8025              0.793   \n",
              "4              0.784              0.776             0.8025              0.793   \n",
              "\n",
              "   split4_test_score  mean_test_score  std_test_score  rank_test_score  \n",
              "0             0.7795            0.787        0.009618                1  \n",
              "1             0.7795            0.787        0.009618                1  \n",
              "2             0.7795            0.787        0.009618                1  \n",
              "3             0.7795            0.787        0.009618                1  \n",
              "4             0.7795            0.787        0.009618                1  "
            ]
          },
          "execution_count": 45,
          "metadata": {},
          "output_type": "execute_result"
        }
      ],
      "source": [
        "# Utilizando o kFold\n",
        "\n",
        "from sklearn.model_selection import GridSearchCV\n",
        "from sklearn.model_selection import KFold\n",
        "\n",
        "SEED = 301\n",
        "np.random.seed(SEED)\n",
        "\n",
        "espaco_de_parametros = {\n",
        "    \"max_depth\": [3, 5],\n",
        "    \"min_samples_split\": [32, 64, 128],\n",
        "    \"min_samples_leaf\": [32, 64, 128],\n",
        "    \"criterion\": [\"gini\", \"entropy\"]\n",
        "}\n",
        "\n",
        "busca = GridSearchCV(DecisionTreeClassifier(), espaco_de_parametros, cv=KFold(n_splits=5, shuffle=True))\n",
        "busca.fit(x_azar, y_azar)\n",
        "\n",
        "resultados = pd.DataFrame(busca.cv_results_)\n",
        "\n",
        "resultados.head()"
      ]
    },
    {
      "cell_type": "code",
      "execution_count": 47,
      "metadata": {},
      "outputs": [
        {
          "data": {
            "text/plain": [
              "array([0.798 , 0.789 , 0.776 , 0.7795, 0.792 ])"
            ]
          },
          "execution_count": 47,
          "metadata": {},
          "output_type": "execute_result"
        }
      ],
      "source": [
        "from sklearn.model_selection import cross_val_score\n",
        "\n",
        "scores = cross_val_score(busca, x_azar, y_azar, cv=KFold(n_splits=5, shuffle=True))\n",
        "scores"
      ]
    },
    {
      "cell_type": "code",
      "execution_count": 50,
      "metadata": {},
      "outputs": [],
      "source": [
        "def imprime_scores(scores):\n",
        "  media = scores.mean() * 100\n",
        "  desvio = scores.std() * 100\n",
        "  print(\"Accuracy médio %.2f\" % media)\n",
        "  print(\"Intervalo [%.2f, %.2f]\" % (media - 2 * desvio, media + 2 * desvio))"
      ]
    },
    {
      "cell_type": "code",
      "execution_count": 51,
      "metadata": {},
      "outputs": [
        {
          "name": "stdout",
          "output_type": "stream",
          "text": [
            "Accuracy médio 78.69\n",
            "Intervalo [77.07, 80.31]\n"
          ]
        }
      ],
      "source": [
        "imprime_scores(scores)"
      ]
    },
    {
      "cell_type": "code",
      "execution_count": 53,
      "metadata": {},
      "outputs": [
        {
          "data": {
            "text/plain": [
              "DecisionTreeClassifier(max_depth=3, min_samples_leaf=32, min_samples_split=32)"
            ]
          },
          "execution_count": 53,
          "metadata": {},
          "output_type": "execute_result"
        }
      ],
      "source": [
        "melhor = busca.best_estimator_\n",
        "melhor"
      ]
    },
    {
      "cell_type": "code",
      "execution_count": 54,
      "metadata": {},
      "outputs": [
        {
          "data": {
            "image/svg+xml": "<?xml version=\"1.0\" encoding=\"UTF-8\" standalone=\"no\"?>\r\n<!DOCTYPE svg PUBLIC \"-//W3C//DTD SVG 1.1//EN\"\r\n \"http://www.w3.org/Graphics/SVG/1.1/DTD/svg11.dtd\">\r\n<!-- Generated by graphviz version 2.49.2 (20211016.1639)\r\n -->\r\n<!-- Title: Tree Pages: 1 -->\r\n<svg width=\"899pt\" height=\"433pt\"\r\n viewBox=\"0.00 0.00 899.00 433.00\" xmlns=\"http://www.w3.org/2000/svg\" xmlns:xlink=\"http://www.w3.org/1999/xlink\">\r\n<g id=\"graph0\" class=\"graph\" transform=\"scale(1 1) rotate(0) translate(4 429)\">\r\n<title>Tree</title>\r\n<polygon fill=\"white\" stroke=\"transparent\" points=\"-4,4 -4,-429 895,-429 895,4 -4,4\"/>\r\n<!-- 0 -->\r\n<g id=\"node1\" class=\"node\">\r\n<title>0</title>\r\n<path fill=\"#c8e4f8\" stroke=\"black\" d=\"M368.5,-425C368.5,-425 245.5,-425 245.5,-425 239.5,-425 233.5,-419 233.5,-413 233.5,-413 233.5,-354 233.5,-354 233.5,-348 239.5,-342 245.5,-342 245.5,-342 368.5,-342 368.5,-342 374.5,-342 380.5,-348 380.5,-354 380.5,-354 380.5,-413 380.5,-413 380.5,-419 374.5,-425 368.5,-425\"/>\r\n<text text-anchor=\"middle\" x=\"307\" y=\"-409.8\" font-family=\"Helvetica,sans-Serif\" font-size=\"14.00\">preco &lt;= 59982.246</text>\r\n<text text-anchor=\"middle\" x=\"307\" y=\"-394.8\" font-family=\"Helvetica,sans-Serif\" font-size=\"14.00\">gini = 0.487</text>\r\n<text text-anchor=\"middle\" x=\"307\" y=\"-379.8\" font-family=\"Helvetica,sans-Serif\" font-size=\"14.00\">samples = 10000</text>\r\n<text text-anchor=\"middle\" x=\"307\" y=\"-364.8\" font-family=\"Helvetica,sans-Serif\" font-size=\"14.00\">value = [4200, 5800]</text>\r\n<text text-anchor=\"middle\" x=\"307\" y=\"-349.8\" font-family=\"Helvetica,sans-Serif\" font-size=\"14.00\">class = sim</text>\r\n</g>\r\n<!-- 1 -->\r\n<g id=\"node2\" class=\"node\">\r\n<title>1</title>\r\n<path fill=\"#52a9e8\" stroke=\"black\" d=\"M275.5,-306C275.5,-306 152.5,-306 152.5,-306 146.5,-306 140.5,-300 140.5,-294 140.5,-294 140.5,-235 140.5,-235 140.5,-229 146.5,-223 152.5,-223 152.5,-223 275.5,-223 275.5,-223 281.5,-223 287.5,-229 287.5,-235 287.5,-235 287.5,-294 287.5,-294 287.5,-300 281.5,-306 275.5,-306\"/>\r\n<text text-anchor=\"middle\" x=\"214\" y=\"-290.8\" font-family=\"Helvetica,sans-Serif\" font-size=\"14.00\">preco &lt;= 40083.385</text>\r\n<text text-anchor=\"middle\" x=\"214\" y=\"-275.8\" font-family=\"Helvetica,sans-Serif\" font-size=\"14.00\">gini = 0.198</text>\r\n<text text-anchor=\"middle\" x=\"214\" y=\"-260.8\" font-family=\"Helvetica,sans-Serif\" font-size=\"14.00\">samples = 4347</text>\r\n<text text-anchor=\"middle\" x=\"214\" y=\"-245.8\" font-family=\"Helvetica,sans-Serif\" font-size=\"14.00\">value = [484, 3863]</text>\r\n<text text-anchor=\"middle\" x=\"214\" y=\"-230.8\" font-family=\"Helvetica,sans-Serif\" font-size=\"14.00\">class = sim</text>\r\n</g>\r\n<!-- 0&#45;&gt;1 -->\r\n<g id=\"edge1\" class=\"edge\">\r\n<title>0&#45;&gt;1</title>\r\n<path fill=\"none\" stroke=\"black\" d=\"M274.73,-341.91C267.59,-332.92 259.96,-323.32 252.59,-314.05\"/>\r\n<polygon fill=\"black\" stroke=\"black\" points=\"255.17,-311.67 246.21,-306.02 249.69,-316.03 255.17,-311.67\"/>\r\n<text text-anchor=\"middle\" x=\"243.37\" y=\"-327.16\" font-family=\"Helvetica,sans-Serif\" font-size=\"14.00\">True</text>\r\n</g>\r\n<!-- 6 -->\r\n<g id=\"node7\" class=\"node\">\r\n<title>6</title>\r\n<path fill=\"#f3c3a0\" stroke=\"black\" d=\"M538,-306C538,-306 372,-306 372,-306 366,-306 360,-300 360,-294 360,-294 360,-235 360,-235 360,-229 366,-223 372,-223 372,-223 538,-223 538,-223 544,-223 550,-229 550,-235 550,-235 550,-294 550,-294 550,-300 544,-306 538,-306\"/>\r\n<text text-anchor=\"middle\" x=\"455\" y=\"-290.8\" font-family=\"Helvetica,sans-Serif\" font-size=\"14.00\">km_por_ano &lt;= 24124.006</text>\r\n<text text-anchor=\"middle\" x=\"455\" y=\"-275.8\" font-family=\"Helvetica,sans-Serif\" font-size=\"14.00\">gini = 0.45</text>\r\n<text text-anchor=\"middle\" x=\"455\" y=\"-260.8\" font-family=\"Helvetica,sans-Serif\" font-size=\"14.00\">samples = 5653</text>\r\n<text text-anchor=\"middle\" x=\"455\" y=\"-245.8\" font-family=\"Helvetica,sans-Serif\" font-size=\"14.00\">value = [3716, 1937]</text>\r\n<text text-anchor=\"middle\" x=\"455\" y=\"-230.8\" font-family=\"Helvetica,sans-Serif\" font-size=\"14.00\">class = não</text>\r\n</g>\r\n<!-- 0&#45;&gt;6 -->\r\n<g id=\"edge6\" class=\"edge\">\r\n<title>0&#45;&gt;6</title>\r\n<path fill=\"none\" stroke=\"black\" d=\"M358.35,-341.91C370.4,-332.38 383.34,-322.15 395.71,-312.37\"/>\r\n<polygon fill=\"black\" stroke=\"black\" points=\"398.07,-314.97 403.74,-306.02 393.73,-309.48 398.07,-314.97\"/>\r\n<text text-anchor=\"middle\" x=\"400.84\" y=\"-327.15\" font-family=\"Helvetica,sans-Serif\" font-size=\"14.00\">False</text>\r\n</g>\r\n<!-- 2 -->\r\n<g id=\"node3\" class=\"node\">\r\n<title>2</title>\r\n<path fill=\"#399de5\" stroke=\"black\" d=\"M110,-179.5C110,-179.5 12,-179.5 12,-179.5 6,-179.5 0,-173.5 0,-167.5 0,-167.5 0,-123.5 0,-123.5 0,-117.5 6,-111.5 12,-111.5 12,-111.5 110,-111.5 110,-111.5 116,-111.5 122,-117.5 122,-123.5 122,-123.5 122,-167.5 122,-167.5 122,-173.5 116,-179.5 110,-179.5\"/>\r\n<text text-anchor=\"middle\" x=\"61\" y=\"-164.3\" font-family=\"Helvetica,sans-Serif\" font-size=\"14.00\">gini = 0.0</text>\r\n<text text-anchor=\"middle\" x=\"61\" y=\"-149.3\" font-family=\"Helvetica,sans-Serif\" font-size=\"14.00\">samples = 1935</text>\r\n<text text-anchor=\"middle\" x=\"61\" y=\"-134.3\" font-family=\"Helvetica,sans-Serif\" font-size=\"14.00\">value = [0, 1935]</text>\r\n<text text-anchor=\"middle\" x=\"61\" y=\"-119.3\" font-family=\"Helvetica,sans-Serif\" font-size=\"14.00\">class = sim</text>\r\n</g>\r\n<!-- 1&#45;&gt;2 -->\r\n<g id=\"edge2\" class=\"edge\">\r\n<title>1&#45;&gt;2</title>\r\n<path fill=\"none\" stroke=\"black\" d=\"M160.92,-222.91C145.19,-210.88 128,-197.73 112.38,-185.79\"/>\r\n<polygon fill=\"black\" stroke=\"black\" points=\"114.44,-182.96 104.37,-179.67 110.19,-188.52 114.44,-182.96\"/>\r\n</g>\r\n<!-- 3 -->\r\n<g id=\"node4\" class=\"node\">\r\n<title>3</title>\r\n<path fill=\"#6bb6ec\" stroke=\"black\" d=\"M275.5,-187C275.5,-187 152.5,-187 152.5,-187 146.5,-187 140.5,-181 140.5,-175 140.5,-175 140.5,-116 140.5,-116 140.5,-110 146.5,-104 152.5,-104 152.5,-104 275.5,-104 275.5,-104 281.5,-104 287.5,-110 287.5,-116 287.5,-116 287.5,-175 287.5,-175 287.5,-181 281.5,-187 275.5,-187\"/>\r\n<text text-anchor=\"middle\" x=\"214\" y=\"-171.8\" font-family=\"Helvetica,sans-Serif\" font-size=\"14.00\">preco &lt;= 41083.029</text>\r\n<text text-anchor=\"middle\" x=\"214\" y=\"-156.8\" font-family=\"Helvetica,sans-Serif\" font-size=\"14.00\">gini = 0.321</text>\r\n<text text-anchor=\"middle\" x=\"214\" y=\"-141.8\" font-family=\"Helvetica,sans-Serif\" font-size=\"14.00\">samples = 2412</text>\r\n<text text-anchor=\"middle\" x=\"214\" y=\"-126.8\" font-family=\"Helvetica,sans-Serif\" font-size=\"14.00\">value = [484, 1928]</text>\r\n<text text-anchor=\"middle\" x=\"214\" y=\"-111.8\" font-family=\"Helvetica,sans-Serif\" font-size=\"14.00\">class = sim</text>\r\n</g>\r\n<!-- 1&#45;&gt;3 -->\r\n<g id=\"edge3\" class=\"edge\">\r\n<title>1&#45;&gt;3</title>\r\n<path fill=\"none\" stroke=\"black\" d=\"M214,-222.91C214,-214.65 214,-205.86 214,-197.3\"/>\r\n<polygon fill=\"black\" stroke=\"black\" points=\"217.5,-197.02 214,-187.02 210.5,-197.02 217.5,-197.02\"/>\r\n</g>\r\n<!-- 4 -->\r\n<g id=\"node5\" class=\"node\">\r\n<title>4</title>\r\n<path fill=\"#95cbf1\" stroke=\"black\" d=\"M114.5,-68C114.5,-68 25.5,-68 25.5,-68 19.5,-68 13.5,-62 13.5,-56 13.5,-56 13.5,-12 13.5,-12 13.5,-6 19.5,0 25.5,0 25.5,0 114.5,0 114.5,0 120.5,0 126.5,-6 126.5,-12 126.5,-12 126.5,-56 126.5,-56 126.5,-62 120.5,-68 114.5,-68\"/>\r\n<text text-anchor=\"middle\" x=\"70\" y=\"-52.8\" font-family=\"Helvetica,sans-Serif\" font-size=\"14.00\">gini = 0.434</text>\r\n<text text-anchor=\"middle\" x=\"70\" y=\"-37.8\" font-family=\"Helvetica,sans-Serif\" font-size=\"14.00\">samples = 110</text>\r\n<text text-anchor=\"middle\" x=\"70\" y=\"-22.8\" font-family=\"Helvetica,sans-Serif\" font-size=\"14.00\">value = [35, 75]</text>\r\n<text text-anchor=\"middle\" x=\"70\" y=\"-7.8\" font-family=\"Helvetica,sans-Serif\" font-size=\"14.00\">class = sim</text>\r\n</g>\r\n<!-- 3&#45;&gt;4 -->\r\n<g id=\"edge4\" class=\"edge\">\r\n<title>3&#45;&gt;4</title>\r\n<path fill=\"none\" stroke=\"black\" d=\"M160.38,-103.73C147.79,-94.15 134.39,-83.96 121.87,-74.44\"/>\r\n<polygon fill=\"black\" stroke=\"black\" points=\"123.87,-71.57 113.79,-68.3 119.63,-77.14 123.87,-71.57\"/>\r\n</g>\r\n<!-- 5 -->\r\n<g id=\"node6\" class=\"node\">\r\n<title>5</title>\r\n<path fill=\"#69b5eb\" stroke=\"black\" d=\"M271,-68C271,-68 157,-68 157,-68 151,-68 145,-62 145,-56 145,-56 145,-12 145,-12 145,-6 151,0 157,0 157,0 271,0 271,0 277,0 283,-6 283,-12 283,-12 283,-56 283,-56 283,-62 277,-68 271,-68\"/>\r\n<text text-anchor=\"middle\" x=\"214\" y=\"-52.8\" font-family=\"Helvetica,sans-Serif\" font-size=\"14.00\">gini = 0.314</text>\r\n<text text-anchor=\"middle\" x=\"214\" y=\"-37.8\" font-family=\"Helvetica,sans-Serif\" font-size=\"14.00\">samples = 2302</text>\r\n<text text-anchor=\"middle\" x=\"214\" y=\"-22.8\" font-family=\"Helvetica,sans-Serif\" font-size=\"14.00\">value = [449, 1853]</text>\r\n<text text-anchor=\"middle\" x=\"214\" y=\"-7.8\" font-family=\"Helvetica,sans-Serif\" font-size=\"14.00\">class = sim</text>\r\n</g>\r\n<!-- 3&#45;&gt;5 -->\r\n<g id=\"edge5\" class=\"edge\">\r\n<title>3&#45;&gt;5</title>\r\n<path fill=\"none\" stroke=\"black\" d=\"M214,-103.73C214,-95.52 214,-86.86 214,-78.56\"/>\r\n<polygon fill=\"black\" stroke=\"black\" points=\"217.5,-78.3 214,-68.3 210.5,-78.3 217.5,-78.3\"/>\r\n</g>\r\n<!-- 7 -->\r\n<g id=\"node8\" class=\"node\">\r\n<title>7</title>\r\n<path fill=\"#fcefe5\" stroke=\"black\" d=\"M516,-187C516,-187 394,-187 394,-187 388,-187 382,-181 382,-175 382,-175 382,-116 382,-116 382,-110 388,-104 394,-104 394,-104 516,-104 516,-104 522,-104 528,-110 528,-116 528,-116 528,-175 528,-175 528,-181 522,-187 516,-187\"/>\r\n<text text-anchor=\"middle\" x=\"455\" y=\"-171.8\" font-family=\"Helvetica,sans-Serif\" font-size=\"14.00\">preco &lt;= 99974.41</text>\r\n<text text-anchor=\"middle\" x=\"455\" y=\"-156.8\" font-family=\"Helvetica,sans-Serif\" font-size=\"14.00\">gini = 0.498</text>\r\n<text text-anchor=\"middle\" x=\"455\" y=\"-141.8\" font-family=\"Helvetica,sans-Serif\" font-size=\"14.00\">samples = 3513</text>\r\n<text text-anchor=\"middle\" x=\"455\" y=\"-126.8\" font-family=\"Helvetica,sans-Serif\" font-size=\"14.00\">value = [1879, 1634]</text>\r\n<text text-anchor=\"middle\" x=\"455\" y=\"-111.8\" font-family=\"Helvetica,sans-Serif\" font-size=\"14.00\">class = não</text>\r\n</g>\r\n<!-- 6&#45;&gt;7 -->\r\n<g id=\"edge7\" class=\"edge\">\r\n<title>6&#45;&gt;7</title>\r\n<path fill=\"none\" stroke=\"black\" d=\"M455,-222.91C455,-214.65 455,-205.86 455,-197.3\"/>\r\n<polygon fill=\"black\" stroke=\"black\" points=\"458.5,-197.02 455,-187.02 451.5,-197.02 458.5,-197.02\"/>\r\n</g>\r\n<!-- 10 -->\r\n<g id=\"node11\" class=\"node\">\r\n<title>10</title>\r\n<path fill=\"#e9965a\" stroke=\"black\" d=\"M743.5,-187C743.5,-187 612.5,-187 612.5,-187 606.5,-187 600.5,-181 600.5,-175 600.5,-175 600.5,-116 600.5,-116 600.5,-110 606.5,-104 612.5,-104 612.5,-104 743.5,-104 743.5,-104 749.5,-104 755.5,-110 755.5,-116 755.5,-116 755.5,-175 755.5,-175 755.5,-181 749.5,-187 743.5,-187\"/>\r\n<text text-anchor=\"middle\" x=\"678\" y=\"-171.8\" font-family=\"Helvetica,sans-Serif\" font-size=\"14.00\">preco &lt;= 100076.957</text>\r\n<text text-anchor=\"middle\" x=\"678\" y=\"-156.8\" font-family=\"Helvetica,sans-Serif\" font-size=\"14.00\">gini = 0.243</text>\r\n<text text-anchor=\"middle\" x=\"678\" y=\"-141.8\" font-family=\"Helvetica,sans-Serif\" font-size=\"14.00\">samples = 2140</text>\r\n<text text-anchor=\"middle\" x=\"678\" y=\"-126.8\" font-family=\"Helvetica,sans-Serif\" font-size=\"14.00\">value = [1837, 303]</text>\r\n<text text-anchor=\"middle\" x=\"678\" y=\"-111.8\" font-family=\"Helvetica,sans-Serif\" font-size=\"14.00\">class = não</text>\r\n</g>\r\n<!-- 6&#45;&gt;10 -->\r\n<g id=\"edge10\" class=\"edge\">\r\n<title>6&#45;&gt;10</title>\r\n<path fill=\"none\" stroke=\"black\" d=\"M532.37,-222.91C551.57,-212.83 572.26,-201.98 591.85,-191.7\"/>\r\n<polygon fill=\"black\" stroke=\"black\" points=\"593.54,-194.77 600.77,-187.02 590.29,-188.57 593.54,-194.77\"/>\r\n</g>\r\n<!-- 8 -->\r\n<g id=\"node9\" class=\"node\">\r\n<title>8</title>\r\n<path fill=\"#f9e0ce\" stroke=\"black\" d=\"M435,-68C435,-68 313,-68 313,-68 307,-68 301,-62 301,-56 301,-56 301,-12 301,-12 301,-6 307,0 313,0 313,0 435,0 435,0 441,0 447,-6 447,-12 447,-12 447,-56 447,-56 447,-62 441,-68 435,-68\"/>\r\n<text text-anchor=\"middle\" x=\"374\" y=\"-52.8\" font-family=\"Helvetica,sans-Serif\" font-size=\"14.00\">gini = 0.49</text>\r\n<text text-anchor=\"middle\" x=\"374\" y=\"-37.8\" font-family=\"Helvetica,sans-Serif\" font-size=\"14.00\">samples = 2944</text>\r\n<text text-anchor=\"middle\" x=\"374\" y=\"-22.8\" font-family=\"Helvetica,sans-Serif\" font-size=\"14.00\">value = [1682, 1262]</text>\r\n<text text-anchor=\"middle\" x=\"374\" y=\"-7.8\" font-family=\"Helvetica,sans-Serif\" font-size=\"14.00\">class = não</text>\r\n</g>\r\n<!-- 7&#45;&gt;8 -->\r\n<g id=\"edge8\" class=\"edge\">\r\n<title>7&#45;&gt;8</title>\r\n<path fill=\"none\" stroke=\"black\" d=\"M424.84,-103.73C418.23,-94.79 411.22,-85.32 404.59,-76.36\"/>\r\n<polygon fill=\"black\" stroke=\"black\" points=\"407.39,-74.26 398.63,-68.3 401.77,-78.42 407.39,-74.26\"/>\r\n</g>\r\n<!-- 9 -->\r\n<g id=\"node10\" class=\"node\">\r\n<title>9</title>\r\n<path fill=\"#a2d1f3\" stroke=\"black\" d=\"M583,-68C583,-68 477,-68 477,-68 471,-68 465,-62 465,-56 465,-56 465,-12 465,-12 465,-6 471,0 477,0 477,0 583,0 583,0 589,0 595,-6 595,-12 595,-12 595,-56 595,-56 595,-62 589,-68 583,-68\"/>\r\n<text text-anchor=\"middle\" x=\"530\" y=\"-52.8\" font-family=\"Helvetica,sans-Serif\" font-size=\"14.00\">gini = 0.453</text>\r\n<text text-anchor=\"middle\" x=\"530\" y=\"-37.8\" font-family=\"Helvetica,sans-Serif\" font-size=\"14.00\">samples = 569</text>\r\n<text text-anchor=\"middle\" x=\"530\" y=\"-22.8\" font-family=\"Helvetica,sans-Serif\" font-size=\"14.00\">value = [197, 372]</text>\r\n<text text-anchor=\"middle\" x=\"530\" y=\"-7.8\" font-family=\"Helvetica,sans-Serif\" font-size=\"14.00\">class = sim</text>\r\n</g>\r\n<!-- 7&#45;&gt;9 -->\r\n<g id=\"edge9\" class=\"edge\">\r\n<title>7&#45;&gt;9</title>\r\n<path fill=\"none\" stroke=\"black\" d=\"M482.93,-103.73C488.99,-94.88 495.4,-85.51 501.49,-76.63\"/>\r\n<polygon fill=\"black\" stroke=\"black\" points=\"504.43,-78.53 507.19,-68.3 498.65,-74.57 504.43,-78.53\"/>\r\n</g>\r\n<!-- 11 -->\r\n<g id=\"node12\" class=\"node\">\r\n<title>11</title>\r\n<path fill=\"#e68742\" stroke=\"black\" d=\"M731,-68C731,-68 625,-68 625,-68 619,-68 613,-62 613,-56 613,-56 613,-12 613,-12 613,-6 619,0 625,0 625,0 731,0 731,0 737,0 743,-6 743,-12 743,-12 743,-56 743,-56 743,-62 737,-68 731,-68\"/>\r\n<text text-anchor=\"middle\" x=\"678\" y=\"-52.8\" font-family=\"Helvetica,sans-Serif\" font-size=\"14.00\">gini = 0.082</text>\r\n<text text-anchor=\"middle\" x=\"678\" y=\"-37.8\" font-family=\"Helvetica,sans-Serif\" font-size=\"14.00\">samples = 1809</text>\r\n<text text-anchor=\"middle\" x=\"678\" y=\"-22.8\" font-family=\"Helvetica,sans-Serif\" font-size=\"14.00\">value = [1732, 77]</text>\r\n<text text-anchor=\"middle\" x=\"678\" y=\"-7.8\" font-family=\"Helvetica,sans-Serif\" font-size=\"14.00\">class = não</text>\r\n</g>\r\n<!-- 10&#45;&gt;11 -->\r\n<g id=\"edge11\" class=\"edge\">\r\n<title>10&#45;&gt;11</title>\r\n<path fill=\"none\" stroke=\"black\" d=\"M678,-103.73C678,-95.52 678,-86.86 678,-78.56\"/>\r\n<polygon fill=\"black\" stroke=\"black\" points=\"681.5,-78.3 678,-68.3 674.5,-78.3 681.5,-78.3\"/>\r\n</g>\r\n<!-- 12 -->\r\n<g id=\"node13\" class=\"node\">\r\n<title>12</title>\r\n<path fill=\"#95cbf1\" stroke=\"black\" d=\"M879,-68C879,-68 773,-68 773,-68 767,-68 761,-62 761,-56 761,-56 761,-12 761,-12 761,-6 767,0 773,0 773,0 879,0 879,0 885,0 891,-6 891,-12 891,-12 891,-56 891,-56 891,-62 885,-68 879,-68\"/>\r\n<text text-anchor=\"middle\" x=\"826\" y=\"-52.8\" font-family=\"Helvetica,sans-Serif\" font-size=\"14.00\">gini = 0.433</text>\r\n<text text-anchor=\"middle\" x=\"826\" y=\"-37.8\" font-family=\"Helvetica,sans-Serif\" font-size=\"14.00\">samples = 331</text>\r\n<text text-anchor=\"middle\" x=\"826\" y=\"-22.8\" font-family=\"Helvetica,sans-Serif\" font-size=\"14.00\">value = [105, 226]</text>\r\n<text text-anchor=\"middle\" x=\"826\" y=\"-7.8\" font-family=\"Helvetica,sans-Serif\" font-size=\"14.00\">class = sim</text>\r\n</g>\r\n<!-- 10&#45;&gt;12 -->\r\n<g id=\"edge12\" class=\"edge\">\r\n<title>10&#45;&gt;12</title>\r\n<path fill=\"none\" stroke=\"black\" d=\"M733.11,-103.73C746.05,-94.15 759.82,-83.96 772.69,-74.44\"/>\r\n<polygon fill=\"black\" stroke=\"black\" points=\"775.04,-77.06 780.99,-68.3 770.87,-71.43 775.04,-77.06\"/>\r\n</g>\r\n</g>\r\n</svg>\r\n",
            "text/plain": [
              "<graphviz.files.Source at 0x188060f88b0>"
            ]
          },
          "execution_count": 54,
          "metadata": {},
          "output_type": "execute_result"
        }
      ],
      "source": [
        "from sklearn.tree import export_graphviz\n",
        "import graphviz\n",
        "\n",
        "\n",
        "features = x_azar.columns\n",
        "dot_data = export_graphviz(melhor, out_file=None, filled=True, rounded=True,\n",
        "                          class_names=[\"não\",\"sim\"],\n",
        "                          feature_names=features)\n",
        "graph = graphviz.Source(dot_data)\n",
        "graph"
      ]
    },
    {
      "cell_type": "code",
      "execution_count": null,
      "metadata": {},
      "outputs": [],
      "source": []
    }
  ],
  "metadata": {
    "colab": {
      "collapsed_sections": [],
      "name": "Introdução_a_Machine_Learning_Otimização.ipynb",
      "provenance": [],
      "version": "0.3.2"
    },
    "kernelspec": {
      "display_name": "Python 3",
      "name": "python3"
    },
    "language_info": {
      "codemirror_mode": {
        "name": "ipython",
        "version": 3
      },
      "file_extension": ".py",
      "mimetype": "text/x-python",
      "name": "python",
      "nbconvert_exporter": "python",
      "pygments_lexer": "ipython3",
      "version": "3.8.12"
    }
  },
  "nbformat": 4,
  "nbformat_minor": 0
}
